{
 "cells": [
  {
   "cell_type": "code",
   "execution_count": 5,
   "metadata": {},
   "outputs": [
    {
     "name": "stdout",
     "output_type": "stream",
     "text": [
      "[1, 'pericardial effusion', 'No PERICARDIAL EFFUSION is seen.', 'Negated', '[PREN]no[PREN] [NEGATED]PERICARDIAL EFFUSION[NEGATED] is seen.', 'negated', '[NEGATED]PERICARDIAL_EFFUSION[NEGATED] is seen.']\n"
     ]
    }
   ],
   "source": [
    "from negex import *\n",
    "import csv\n",
    "\n",
    "\n",
    "def main():\n",
    "    rfile = open(r'negex_triggers.txt')\n",
    "    irules = sortRules(rfile.readlines())\n",
    "    report = [1, \"pericardial effusion\",\t\"No PERICARDIAL EFFUSION is seen.\",\t\"Negated\"]\n",
    "    #next(reports)\n",
    "    reportNum = 0\n",
    "    correctNum = 0\n",
    "    #ofile = open(r'negex_output.txt', 'w')\n",
    "    output = []\n",
    "    #outputfile = csv.writer(ofile, delimiter = '\\t')\n",
    "    #for report in reports:\n",
    "    tagger = negTagger(sentence = report[2], phrases = [report[1]], rules = irules, negP=False)\n",
    "    report.append(tagger.getNegTaggedSentence())\n",
    "    report.append(tagger.getNegationFlag())\n",
    "    report = report + tagger.getScopes()\n",
    "    reportNum += 1\n",
    "    if report[3].lower() == report[5]:\n",
    "        correctNum +=1\n",
    "    print(report)\n",
    "    #output.append(report)\n",
    "    #outputfile.writerow(['Percentage correct:', float(correctNum)/float(reportNum)])\n",
    "    \"\"\"for row in output:\n",
    "        if row:\n",
    "            outputfile.writerow(row)\n",
    "    ofile.close()\"\"\"\n",
    "\n",
    "if __name__ == '__main__': main()\n",
    "\n",
    "#TODO Decirle al Amrit que corriga lo de las negaciones. Que haga un solo archivo y que las seudos salgan bien\n",
    "#TODO Decirle al Amrit que me pase el codigo directamente, y ya voy cambiando yo lo que necesite"
   ]
  }
 ],
 "metadata": {
  "kernelspec": {
   "display_name": "base",
   "language": "python",
   "name": "python3"
  },
  "language_info": {
   "codemirror_mode": {
    "name": "ipython",
    "version": 3
   },
   "file_extension": ".py",
   "mimetype": "text/x-python",
   "name": "python",
   "nbconvert_exporter": "python",
   "pygments_lexer": "ipython3",
   "version": "3.11.4"
  }
 },
 "nbformat": 4,
 "nbformat_minor": 2
}
