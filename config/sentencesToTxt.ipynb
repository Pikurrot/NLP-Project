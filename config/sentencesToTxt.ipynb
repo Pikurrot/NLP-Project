{
 "cells": [
  {
   "cell_type": "code",
   "execution_count": 10,
   "metadata": {},
   "outputs": [],
   "source": [
    "import json\n",
    "import os\n",
    "import nltk\n",
    "from tqdm import tqdm"
   ]
  },
  {
   "cell_type": "code",
   "execution_count": 11,
   "metadata": {},
   "outputs": [],
   "source": [
    "ROOT_DIR = os.path.dirname(os.path.abspath(\"\"))\n",
    "data = json.load(open(os.path.join(ROOT_DIR, \"data\", \"training_data.json\")))"
   ]
  },
  {
   "cell_type": "code",
   "execution_count": 12,
   "metadata": {},
   "outputs": [],
   "source": [
    "sents = []\n",
    "for i in range(len(data)):\n",
    "\ttext = data[i][\"data\"][\"text\"]\n",
    "\tspans = nltk.sent_tokenize(text)\n",
    "\tsents.append(spans)"
   ]
  },
  {
   "cell_type": "code",
   "execution_count": 13,
   "metadata": {},
   "outputs": [],
   "source": [
    "ofile = open(r'../data/sentences.txt', 'w')\n",
    "for i in range(len(sents)):\n",
    "    for j in range(len(sents[i])):\n",
    "        sentence = sents[i][j]  \n",
    "        ofile.write(sentence+\"\\n\")\n",
    "ofile.close()"
   ]
  },
  {
   "cell_type": "code",
   "execution_count": null,
   "metadata": {},
   "outputs": [],
   "source": []
  }
 ],
 "metadata": {
  "kernelspec": {
   "display_name": "base",
   "language": "python",
   "name": "python3"
  },
  "language_info": {
   "codemirror_mode": {
    "name": "ipython",
    "version": 3
   },
   "file_extension": ".py",
   "mimetype": "text/x-python",
   "name": "python",
   "nbconvert_exporter": "python",
   "pygments_lexer": "ipython3",
   "version": "3.11.4"
  }
 },
 "nbformat": 4,
 "nbformat_minor": 2
}
