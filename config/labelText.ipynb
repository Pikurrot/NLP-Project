{
 "cells": [
  {
   "cell_type": "code",
   "execution_count": 63,
   "metadata": {},
   "outputs": [],
   "source": [
    "import json\n",
    "import nltk\n",
    "\n",
    "ROOT_DIR = os.path.dirname(os.path.abspath(\"\"))\n",
    "data = json.load(open(os.path.join(ROOT_DIR, \"data\", \"training_data.json\")))"
   ]
  },
  {
   "cell_type": "code",
   "execution_count": 64,
   "metadata": {},
   "outputs": [],
   "source": [
    "sents=[]\n",
    "for i in range(len(data)):\n",
    "    text=data[i][\"data\"][\"text\"]\n",
    "    new_text=text\n",
    "    parts_to_tag=data[i][\"predictions\"][0][\"result\"]\n",
    "    sorted_parts_to_tag = sorted(parts_to_tag, key=lambda x: x[\"value\"][\"start\"])\n",
    "    added_text_length=0\n",
    "    \n",
    "    for j in range(len(sorted_parts_to_tag)):\n",
    "        start=sorted_parts_to_tag[j][\"value\"][\"start\"] + added_text_length\n",
    "        end=sorted_parts_to_tag[j][\"value\"][\"end\"] + added_text_length\n",
    "        if(new_text[end-1]==\".\" or new_text[end-1]==\" \"): end-=1\n",
    "        label=\"[\"+sorted_parts_to_tag[j][\"value\"][\"labels\"][0]+\"]\"\n",
    "        new_text = new_text[:start] + label+new_text[start:end]+label + new_text[end:]\n",
    "        added_text_length=len(new_text) - len(text)\n",
    "\n",
    "    spans = nltk.sent_tokenize(new_text)\n",
    "    sents.append(spans)"
   ]
  },
  {
   "cell_type": "code",
   "execution_count": 65,
   "metadata": {},
   "outputs": [],
   "source": [
    "ofile = open(r'../data/true_labels.txt', 'w')\n",
    "for i in range(len(sents)):\n",
    "    for j in range(len(sents[i])):\n",
    "        sentence = sents[i][j]  \n",
    "        ofile.write(sentence+\"\\n\")\n",
    "ofile.close()"
   ]
  }
 ],
 "metadata": {
  "kernelspec": {
   "display_name": "base",
   "language": "python",
   "name": "python3"
  },
  "language_info": {
   "codemirror_mode": {
    "name": "ipython",
    "version": 3
   },
   "file_extension": ".py",
   "mimetype": "text/x-python",
   "name": "python",
   "nbconvert_exporter": "python",
   "pygments_lexer": "ipython3",
   "version": "3.11.4"
  }
 },
 "nbformat": 4,
 "nbformat_minor": 2
}
