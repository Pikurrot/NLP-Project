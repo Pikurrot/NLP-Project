{
 "cells": [
  {
   "cell_type": "code",
   "execution_count": 1,
   "metadata": {},
   "outputs": [
    {
     "name": "stderr",
     "output_type": "stream",
     "text": [
      "/home/eric/miniconda3/envs/nlp/lib/python3.11/site-packages/torch/cuda/__init__.py:118: UserWarning: CUDA initialization: CUDA unknown error - this may be due to an incorrectly set up environment, e.g. changing env variable CUDA_VISIBLE_DEVICES after program start. Setting the available devices to be zero. (Triggered internally at ../c10/cuda/CUDAFunctions.cpp:108.)\n",
      "  return torch._C._cuda_getDeviceCount() > 0\n"
     ]
    }
   ],
   "source": [
    "from preprocessing import *\n",
    "from crf import *\n",
    "import os\n",
    "\n",
    "ROOT_DIR = os.path.dirname(os.path.abspath(\"\"))\n",
    "\n",
    "train_data_tokens = load_tokens(os.path.join(ROOT_DIR, \"data\", \"training_data_tokens.json\"))\n",
    "train_data = json.load(open(os.path.join(ROOT_DIR, \"data\", \"training_data.json\"), \"r\"))"
   ]
  },
  {
   "cell_type": "code",
   "execution_count": 3,
   "metadata": {},
   "outputs": [],
   "source": [
    "train_data_bio = create_bio_tags(train_data, train_data_tokens)\n",
    "with open(os.path.join(ROOT_DIR, \"data\", \"training_data_bio.json\"), \"w\") as f:\n",
    "\tjson.dump(train_data_bio, f)"
   ]
  },
  {
   "cell_type": "code",
   "execution_count": 4,
   "metadata": {},
   "outputs": [],
   "source": [
    "model = CRF(\n",
    "\tmodel_path=os.path.join(ROOT_DIR, \"models\", \"crf_0_0.crfsuite\"),\n",
    "\ttrainer_params={\n",
    "\t\t\"c1\": 1e-3,\n",
    "\t\t\"c2\": 1e-1,\n",
    "\t\t\"max_iterations\": 50,\n",
    "\t\t\"padding\": True,\n",
    "\t\t\"before_lim\": 6,\n",
    "\t\t\"after_lim\": 1,\n",
    "\t},\n",
    "\tverbose=False\n",
    ")"
   ]
  },
  {
   "cell_type": "code",
   "execution_count": 4,
   "metadata": {},
   "outputs": [
    {
     "name": "stderr",
     "output_type": "stream",
     "text": [
      "100%|██████████| 254/254 [00:31<00:00,  8.16it/s]\n"
     ]
    }
   ],
   "source": [
    "precompute_pos(\n",
    "\ttokens_path=os.path.join(ROOT_DIR, \"data\", \"training_data_tokens.json\"),\n",
    "\tpos_path=os.path.join(ROOT_DIR, \"data\", \"training_data_pos.json\")\n",
    ")"
   ]
  },
  {
   "cell_type": "code",
   "execution_count": 5,
   "metadata": {},
   "outputs": [
    {
     "name": "stderr",
     "output_type": "stream",
     "text": [
      "100%|██████████| 254/254 [00:00<00:00, 3208.50it/s]\n"
     ]
    },
    {
     "name": "stdout",
     "output_type": "stream",
     "text": [
      "Training model...\n",
      "Model trained\n"
     ]
    }
   ],
   "source": [
    "model.train(\n",
    "\ttrain_tokens_path=os.path.join(ROOT_DIR, \"data\", \"training_data_tokens.json\"),\n",
    "\ttrain_labels_path=os.path.join(ROOT_DIR, \"data\", \"training_data_bio.json\"),\n",
    "\ttrain_pos_path=os.path.join(ROOT_DIR, \"data\", \"training_data_pos.json\"),\n",
    ")"
   ]
  },
  {
   "cell_type": "code",
   "execution_count": 7,
   "metadata": {},
   "outputs": [
    {
     "name": "stderr",
     "output_type": "stream",
     "text": [
      "100%|██████████| 254/254 [00:03<00:00, 79.58it/s]\n"
     ]
    }
   ],
   "source": [
    "model.process(\n",
    "\tdata_path=os.path.join(ROOT_DIR, \"data\", \"training_data.json\"),\n",
    "\ttokens_path=os.path.join(ROOT_DIR, \"data\", \"training_data_tokens.json\"),\n",
    "\tsave_path=os.path.join(ROOT_DIR, \"data\", \"training_data_predictions_crf.json\"),\n",
    "\tpos_path=os.path.join(ROOT_DIR, \"data\", \"training_data_pos.json\"),\n",
    ")"
   ]
  },
  {
   "cell_type": "code",
   "execution_count": 8,
   "metadata": {},
   "outputs": [
    {
     "name": "stdout",
     "output_type": "stream",
     "text": [
      "Training\n",
      "Precision: 0.9797242276351673, Recall:0.9797242276351673, F1:0.9797242276351673\n"
     ]
    }
   ],
   "source": [
    "from eval import EvalOfficial\n",
    "\n",
    "with open(os.path.join(ROOT_DIR, \"data\", \"training_data.json\"), \"r\", encoding=\"utf8\") as _f:\n",
    "\ttrain_data = json.load(_f)\n",
    "\n",
    "with open(os.path.join(ROOT_DIR, \"data\", \"training_data_predictions_crf.json\"), \"r\", encoding=\"utf8\") as _f:\n",
    "\ttrain_data_predictions = json.load(_f)\n",
    "\n",
    "metric = EvalOfficial()\n",
    "p, r, f1 = metric.calc(train_data_predictions, train_data)\n",
    "print(\"Training\")\n",
    "print(f\"Precision: {p}, Recall:{r}, F1:{f1}\")"
   ]
  },
  {
   "cell_type": "markdown",
   "metadata": {},
   "source": [
    "### Experimentation"
   ]
  },
  {
   "cell_type": "code",
   "execution_count": 1,
   "metadata": {},
   "outputs": [],
   "source": [
    "from eval import *\n",
    "from preprocessing import *\n",
    "import os\n",
    "\n",
    "ROOT_DIR = os.path.dirname(os.path.abspath(\"\"))"
   ]
  },
  {
   "cell_type": "code",
   "execution_count": 2,
   "metadata": {},
   "outputs": [],
   "source": [
    "# split data into training and validation\n",
    "val_frac = 0.2\n",
    "with open(os.path.join(ROOT_DIR, \"data\", \"training_data.json\"), \"r\", encoding=\"utf8\") as _f:\n",
    "\ttrain_data = json.load(_f)\n",
    "\n",
    "val_docs = int(val_frac * len(train_data))\n",
    "val_data = train_data[:val_docs]\n",
    "with open(os.path.join(ROOT_DIR, \"data\", \"val_set_data.json\"), \"w\", encoding=\"utf8\") as _f:\n",
    "\tjson.dump(val_data, _f)\n",
    "new_train_data = train_data[val_docs:]\n",
    "with open(os.path.join(ROOT_DIR, \"data\", \"train_set_data.json\"), \"w\", encoding=\"utf8\") as _f:\n",
    "\tjson.dump(new_train_data, _f)"
   ]
  },
  {
   "cell_type": "code",
   "execution_count": 3,
   "metadata": {},
   "outputs": [
    {
     "name": "stdout",
     "output_type": "stream",
     "text": [
      "Creating evaluation tokens...\n"
     ]
    },
    {
     "name": "stderr",
     "output_type": "stream",
     "text": [
      "100%|██████████| 50/50 [00:14<00:00,  3.51it/s]\n",
      "100%|██████████| 50/50 [00:00<00:00, 65.83it/s]\n"
     ]
    },
    {
     "name": "stdout",
     "output_type": "stream",
     "text": [
      "Creating training tokens...\n"
     ]
    },
    {
     "name": "stderr",
     "output_type": "stream",
     "text": [
      "100%|██████████| 204/204 [00:57<00:00,  3.53it/s]\n",
      "100%|██████████| 204/204 [00:02<00:00, 69.98it/s]\n"
     ]
    },
    {
     "name": "stdout",
     "output_type": "stream",
     "text": [
      "Precomputing training POS tags...\n"
     ]
    },
    {
     "name": "stderr",
     "output_type": "stream",
     "text": [
      "100%|██████████| 204/204 [00:50<00:00,  4.06it/s]\n"
     ]
    },
    {
     "name": "stdout",
     "output_type": "stream",
     "text": [
      "Precomputing evaluation POS tags...\n"
     ]
    },
    {
     "name": "stderr",
     "output_type": "stream",
     "text": [
      "100%|██████████| 50/50 [00:14<00:00,  3.47it/s]\n"
     ]
    },
    {
     "name": "stdout",
     "output_type": "stream",
     "text": [
      "Loading NLP models...\n"
     ]
    }
   ],
   "source": [
    "eval = EvalCRF(\n",
    "\tsave_dir=os.path.join(ROOT_DIR, \"temp\"),\n",
    "\tresults_dir=os.path.join(ROOT_DIR, \"data\"),\n",
    "\ttrain_data_path=os.path.join(ROOT_DIR, \"data\", \"train_set_data.json\"),\n",
    "\teval_data_path=os.path.join(ROOT_DIR, \"data\", \"val_set_data.json\"),\n",
    "\tlemmatize=False,\n",
    "\tremove_punctuation=True,\n",
    "\treplace_numbers=None,\n",
    "\tverbose=True\n",
    ")"
   ]
  },
  {
   "cell_type": "code",
   "execution_count": 4,
   "metadata": {},
   "outputs": [
    {
     "name": "stdout",
     "output_type": "stream",
     "text": [
      "Instantiating CRF...\n",
      "Training CRF...\n"
     ]
    },
    {
     "name": "stderr",
     "output_type": "stream",
     "text": [
      "100%|██████████| 204/204 [00:00<00:00, 3527.01it/s]\n"
     ]
    },
    {
     "name": "stdout",
     "output_type": "stream",
     "text": [
      "Training model...\n",
      "Model trained\n",
      "Predicting...\n"
     ]
    },
    {
     "name": "stderr",
     "output_type": "stream",
     "text": [
      "100%|██████████| 50/50 [00:00<00:00, 63.75it/s]\n"
     ]
    },
    {
     "name": "stdout",
     "output_type": "stream",
     "text": [
      "Calculating metrics...\n"
     ]
    },
    {
     "data": {
      "text/plain": [
       "{'precision': 0.9649136248528155,\n",
       " 'recall': 0.9649136248528155,\n",
       " 'f1': 0.9649136248528155,\n",
       " 'time': 0.8872}"
      ]
     },
     "execution_count": 4,
     "metadata": {},
     "output_type": "execute_result"
    }
   ],
   "source": [
    "trainer_params={\n",
    "\t\t\"c1\": 1e-3,\n",
    "\t\t\"c2\": 1e-1,\n",
    "\t\t\"max_iterations\": 50,\n",
    "\t\t\"padding\": True,\n",
    "\t\t\"before_lim\": 6,\n",
    "\t\t\"after_lim\": 1,\n",
    "\t}\n",
    "eval.evaluate(**trainer_params)"
   ]
  },
  {
   "cell_type": "code",
   "execution_count": 5,
   "metadata": {},
   "outputs": [],
   "source": [
    "eval = EvalCRF(\n",
    "\tsave_dir=os.path.join(ROOT_DIR, \"temp\"),\n",
    "\tresults_dir=os.path.join(ROOT_DIR, \"data\"),\n",
    "\ttrain_data_path=os.path.join(ROOT_DIR, \"data\", 'train_set_data.json'),\n",
    "\teval_data_path=os.path.join(ROOT_DIR, \"data\", 'val_set_data.json'),\n",
    "\tload_existing_train_tokens=True,\n",
    "\tload_existing_eval_tokens=True,\n",
    "\tload_existing_train_pos=True,\n",
    "\tload_existing_eval_pos=True,\n",
    "\tlemmatize=False,\n",
    "\tremove_punctuation=True,\n",
    "\treplace_numbers=None,\n",
    "\tverbose=False\n",
    ")"
   ]
  },
  {
   "cell_type": "code",
   "execution_count": 6,
   "metadata": {},
   "outputs": [
    {
     "name": "stdout",
     "output_type": "stream",
     "text": [
      "Progress: 9/9\n"
     ]
    }
   ],
   "source": [
    "combinations = eval.grid_search(\n",
    "\t{\n",
    "\t\t\"c1\": [1e-2, 1e-3, 1e-4],\n",
    "\t\t\"c2\": [1e-0, 1e-1, 1e-2],\n",
    "\t\t\"max_iterations\": [50],\n",
    "\t\t\"padding\": [True],\n",
    "\t\t\"before_lim\": [6],\n",
    "\t\t\"after_lim\": [1],\n",
    "\t}\n",
    ")"
   ]
  },
  {
   "cell_type": "code",
   "execution_count": 7,
   "metadata": {},
   "outputs": [],
   "source": [
    "import pandas as pd\n",
    "import seaborn as sns\n",
    "import matplotlib.pyplot as plt\n",
    "\n",
    "data = []\n",
    "for combo in combinations:\n",
    "    params = combo['params']\n",
    "    metrics = combo['metrics']\n",
    "    data.append((params['c1'], params['c2'], metrics['f1']))\n",
    "df = pd.DataFrame(data, columns=['c1', 'c2', 'f1'])\n",
    "df.sort_values(by=['c1', 'c2'], inplace=True)"
   ]
  },
  {
   "cell_type": "code",
   "execution_count": 8,
   "metadata": {},
   "outputs": [
    {
     "data": {
      "image/png": "[encoded data removed]",
      "text/plain": [
       "<Figure size 500x400 with 2 Axes>"
      ]
     },
     "metadata": {},
     "output_type": "display_data"
    }
   ],
   "source": [
    "pivot_table = df.pivot_table(index=\"c1\", columns=\"c2\", values=\"f1\")\n",
    "\n",
    "plt.figure(figsize=(5, 4))\n",
    "sns.heatmap(pivot_table, annot=True, fmt=\".3f\", cmap='Blues', cbar_kws={'label': 'F1'}, vmin=0.93, vmax=0.98)\n",
    "\n",
    "plt.title('F1 score for c1 and c2')\n",
    "plt.ylabel('c1')\n",
    "plt.xlabel('c2')\n",
    "plt.show()"
   ]
  },
  {
   "cell_type": "code",
   "execution_count": 9,
   "metadata": {},
   "outputs": [
    {
     "name": "stdout",
     "output_type": "stream",
     "text": [
      "Progress: 8/8\n"
     ]
    }
   ],
   "source": [
    "combinations2 = eval.grid_search(\n",
    "\t{\n",
    "\t\t\"c1\": [1e-2],\n",
    "\t\t\"c2\": [1e-0],\n",
    "\t\t\"max_iterations\": [50],\n",
    "\t\t\"padding\": [True, False],\n",
    "\t\t\"before_lim\": [6, 3],\n",
    "\t\t\"after_lim\": [1, 2],\n",
    "\t}\n",
    ")"
   ]
  },
  {
   "cell_type": "code",
   "execution_count": 10,
   "metadata": {},
   "outputs": [],
   "source": [
    "data = []\n",
    "for combo in combinations2:\n",
    "    params = combo['params']\n",
    "    metrics = combo['metrics']\n",
    "    data.append((params['padding'], params['before_lim'], params['after_lim'], metrics['f1']))\n",
    "df = pd.DataFrame(data, columns=['padding', 'before_lim', 'after_lim', 'f1'])\n",
    "df.sort_values(by=['padding', 'before_lim', 'after_lim'], inplace=True)"
   ]
  },
  {
   "cell_type": "code",
   "execution_count": 15,
   "metadata": {},
   "outputs": [
    {
     "data": {
      "image/png": "[encoded data removed]",
      "text/plain": [
       "<Figure size 500x400 with 1 Axes>"
      ]
     },
     "metadata": {},
     "output_type": "display_data"
    }
   ],
   "source": [
    "average_f1 = df.groupby('padding')['f1'].mean()\n",
    "plt.figure(figsize=(5, 4))\n",
    "average_f1.plot(kind='bar', color=['blue', 'green'])\n",
    "plt.title('Average F1 Score by Padding')\n",
    "plt.xlabel('Padding')\n",
    "plt.ylabel('Average F1')\n",
    "plt.xticks(rotation=0)\n",
    "plt.ylim(0.96, 0.972)\n",
    "plt.show()"
   ]
  },
  {
   "cell_type": "code",
   "execution_count": 31,
   "metadata": {},
   "outputs": [
    {
     "name": "stdout",
     "output_type": "stream",
     "text": [
      "Progress: 5/5\n"
     ]
    }
   ],
   "source": [
    "combinations3 = eval.grid_search(\n",
    "\t{\n",
    "\t\t\"c1\": [1e-2],\n",
    "\t\t\"c2\": [1e-0],\n",
    "\t\t\"max_iterations\": [50],\n",
    "\t\t\"padding\": [False],\n",
    "\t\t\"before_lim\": [10, 8, 6, 4, 2],\n",
    "\t\t\"after_lim\": [1],\n",
    "\t}\n",
    ")"
   ]
  },
  {
   "cell_type": "code",
   "execution_count": 32,
   "metadata": {},
   "outputs": [
    {
     "name": "stdout",
     "output_type": "stream",
     "text": [
      "Progress: 5/5\n"
     ]
    }
   ],
   "source": [
    "combinations4 = eval.grid_search(\n",
    "\t{\n",
    "\t\t\"c1\": [1e-2],\n",
    "\t\t\"c2\": [1e-0],\n",
    "\t\t\"max_iterations\": [50],\n",
    "\t\t\"padding\": [False],\n",
    "\t\t\"before_lim\": [6],\n",
    "\t\t\"after_lim\": [0, 1, 2, 3, 4],\n",
    "\t}\n",
    ")"
   ]
  },
  {
   "cell_type": "code",
   "execution_count": 36,
   "metadata": {},
   "outputs": [],
   "source": [
    "data = []\n",
    "for combo in combinations3:\n",
    "    params = combo['params']\n",
    "    metrics = combo['metrics']\n",
    "    data.append((params['before_lim'], metrics['f1']))\n",
    "df = pd.DataFrame(data, columns=['before_lim', 'f1'])\n",
    "df.sort_values(by=['before_lim'], inplace=True)"
   ]
  },
  {
   "cell_type": "code",
   "execution_count": 37,
   "metadata": {},
   "outputs": [],
   "source": [
    "data = []\n",
    "for combo in combinations4:\n",
    "    params = combo['params']\n",
    "    metrics = combo['metrics']\n",
    "    data.append((params['after_lim'], metrics['f1']))\n",
    "df2 = pd.DataFrame(data, columns=['after_lim', 'f1'])\n",
    "df2.sort_values(by=['after_lim'], inplace=True)"
   ]
  },
  {
   "cell_type": "code",
   "execution_count": 41,
   "metadata": {},
   "outputs": [
    {
     "data": {
      "image/png": "[encoded data removed]",
      "text/plain": [
       "<Figure size 500x400 with 1 Axes>"
      ]
     },
     "metadata": {},
     "output_type": "display_data"
    }
   ],
   "source": [
    "plt.figure(figsize=(5, 4))\n",
    "plt.plot(df['before_lim'], df['f1'], marker='o', color='red')\n",
    "plt.plot(df2['after_lim'], df2['f1'], marker='o', color='blue')\n",
    "plt.title('F1 Score by Before and After Limit')\n",
    "plt.xlabel('Before/After Limit')\n",
    "plt.ylabel('F1')\n",
    "plt.legend(['Before Limit', 'After Limit'])\n",
    "plt.xticks(range(0, 11))\n",
    "plt.grid()\n",
    "plt.show()"
   ]
  },
  {
   "cell_type": "markdown",
   "metadata": {},
   "source": [
    "### Testing"
   ]
  },
  {
   "cell_type": "code",
   "execution_count": 1,
   "metadata": {},
   "outputs": [],
   "source": [
    "from eval import *\n",
    "from preprocessing import *\n",
    "import os"
   ]
  },
  {
   "cell_type": "code",
   "execution_count": 2,
   "metadata": {},
   "outputs": [
    {
     "name": "stdout",
     "output_type": "stream",
     "text": [
      "Loading NLP models...\n"
     ]
    }
   ],
   "source": [
    "eval = EvalCRF(\n",
    "\tsave_dir=os.path.join(ROOT_DIR, \"temp\"),\n",
    "\tresults_dir=os.path.join(ROOT_DIR, \"data\"),\n",
    "\ttrain_data_path=os.path.join(ROOT_DIR, \"data\", \"training_data.json\"),\n",
    "\teval_data_path=os.path.join(ROOT_DIR, \"data\", \"test_data.json\"),\n",
    "\tload_existing_train_tokens=True,\n",
    "\tload_existing_eval_tokens=True,\n",
    "\tload_existing_train_pos=True,\n",
    "\tload_existing_eval_pos=True,\n",
    "\tlemmatize=False,\n",
    "\tremove_punctuation=True,\n",
    "\treplace_numbers=None,\n",
    "\tverbose=True\n",
    ")"
   ]
  },
  {
   "cell_type": "code",
   "execution_count": 3,
   "metadata": {},
   "outputs": [
    {
     "name": "stdout",
     "output_type": "stream",
     "text": [
      "Instantiating CRF...\n",
      "Training CRF...\n"
     ]
    },
    {
     "name": "stderr",
     "output_type": "stream",
     "text": [
      "100%|██████████| 204/204 [00:00<00:00, 2451.21it/s]\n"
     ]
    },
    {
     "name": "stdout",
     "output_type": "stream",
     "text": [
      "Training model...\n",
      "Model trained\n",
      "Predicting...\n"
     ]
    },
    {
     "name": "stderr",
     "output_type": "stream",
     "text": [
      "100%|██████████| 50/50 [00:00<00:00, 66.83it/s]\n"
     ]
    },
    {
     "name": "stdout",
     "output_type": "stream",
     "text": [
      "Calculating metrics...\n",
      "Instantiating CRF...\n",
      "Training CRF...\n"
     ]
    },
    {
     "name": "stderr",
     "output_type": "stream",
     "text": [
      "100%|██████████| 204/204 [00:00<00:00, 3509.13it/s]\n"
     ]
    },
    {
     "name": "stdout",
     "output_type": "stream",
     "text": [
      "Training model...\n",
      "Model trained\n",
      "Predicting...\n"
     ]
    },
    {
     "name": "stderr",
     "output_type": "stream",
     "text": [
      "100%|██████████| 50/50 [00:01<00:00, 43.76it/s]\n"
     ]
    },
    {
     "name": "stdout",
     "output_type": "stream",
     "text": [
      "Calculating metrics...\n",
      "Instantiating CRF...\n",
      "Training CRF...\n"
     ]
    },
    {
     "name": "stderr",
     "output_type": "stream",
     "text": [
      "100%|██████████| 204/204 [00:00<00:00, 2807.78it/s]\n"
     ]
    },
    {
     "name": "stdout",
     "output_type": "stream",
     "text": [
      "Training model...\n",
      "Model trained\n",
      "Predicting...\n"
     ]
    },
    {
     "name": "stderr",
     "output_type": "stream",
     "text": [
      "100%|██████████| 50/50 [00:00<00:00, 63.42it/s]\n"
     ]
    },
    {
     "name": "stdout",
     "output_type": "stream",
     "text": [
      "Calculating metrics...\n",
      "Instantiating CRF...\n",
      "Training CRF...\n"
     ]
    },
    {
     "name": "stderr",
     "output_type": "stream",
     "text": [
      "100%|██████████| 204/204 [00:00<00:00, 3318.12it/s]\n"
     ]
    },
    {
     "name": "stdout",
     "output_type": "stream",
     "text": [
      "Training model...\n",
      "Model trained\n",
      "Predicting...\n"
     ]
    },
    {
     "name": "stderr",
     "output_type": "stream",
     "text": [
      "100%|██████████| 50/50 [00:00<00:00, 77.48it/s]\n"
     ]
    },
    {
     "name": "stdout",
     "output_type": "stream",
     "text": [
      "Calculating metrics...\n",
      "Instantiating CRF...\n",
      "Training CRF...\n"
     ]
    },
    {
     "name": "stderr",
     "output_type": "stream",
     "text": [
      "100%|██████████| 200/200 [00:00<00:00, 2948.20it/s]\n"
     ]
    },
    {
     "name": "stdout",
     "output_type": "stream",
     "text": [
      "Training model...\n",
      "Model trained\n",
      "Predicting...\n"
     ]
    },
    {
     "name": "stderr",
     "output_type": "stream",
     "text": [
      "100%|██████████| 54/54 [00:00<00:00, 71.38it/s]\n"
     ]
    },
    {
     "name": "stdout",
     "output_type": "stream",
     "text": [
      "Calculating metrics...\n"
     ]
    }
   ],
   "source": [
    "trainer_params={\n",
    "\t\t\"c1\": 1e-2,\n",
    "\t\t\"c2\": 1e-0,\n",
    "\t\t\"max_iterations\": 100,\n",
    "\t\t\"padding\": False,\n",
    "\t\t\"before_lim\": 6,\n",
    "\t\t\"after_lim\": 1,\n",
    "\t}\n",
    "cv_results = eval.cross_validation(5, **trainer_params) # this only uses the training data"
   ]
  },
  {
   "cell_type": "code",
   "execution_count": 7,
   "metadata": {},
   "outputs": [
    {
     "name": "stdout",
     "output_type": "stream",
     "text": [
      "F1 score: 0.9725630714777236\n",
      "Inference time: 0.91342 s\n"
     ]
    }
   ],
   "source": [
    "print(\"F1 score:\", cv_results[\"avg_f1\"])\n",
    "print(\"Inference time:\", cv_results[\"avg_time\"], \"s\")"
   ]
  },
  {
   "cell_type": "code",
   "execution_count": 11,
   "metadata": {},
   "outputs": [
    {
     "name": "stdout",
     "output_type": "stream",
     "text": [
      "Instantiating CRF...\n",
      "Training CRF...\n"
     ]
    },
    {
     "name": "stderr",
     "output_type": "stream",
     "text": [
      "100%|██████████| 254/254 [00:00<00:00, 3415.24it/s]\n"
     ]
    },
    {
     "name": "stdout",
     "output_type": "stream",
     "text": [
      "Training model...\n",
      "Model trained\n",
      "Predicting...\n"
     ]
    },
    {
     "name": "stderr",
     "output_type": "stream",
     "text": [
      "100%|██████████| 64/64 [00:01<00:00, 57.76it/s]\n"
     ]
    },
    {
     "name": "stdout",
     "output_type": "stream",
     "text": [
      "Calculating metrics...\n"
     ]
    },
    {
     "data": {
      "text/plain": [
       "{'precision': 0.9705290078028423,\n",
       " 'recall': 0.9705290078028423,\n",
       " 'f1': 0.9705290078028423,\n",
       " 'time': 1.2396}"
      ]
     },
     "execution_count": 11,
     "metadata": {},
     "output_type": "execute_result"
    }
   ],
   "source": [
    "trainer_params={\n",
    "\t\t\"c1\": 1e-2,\n",
    "\t\t\"c2\": 1e-0,\n",
    "\t\t\"max_iterations\": 100,\n",
    "\t\t\"padding\": False,\n",
    "\t\t\"before_lim\": 6,\n",
    "\t\t\"after_lim\": 1,\n",
    "\t}\n",
    "eval.evaluate(**trainer_params) # now we use the test data"
   ]
  },
  {
   "cell_type": "code",
   "execution_count": 61,
   "metadata": {},
   "outputs": [
    {
     "data": {
      "image/png": "[encoded data removed]",
      "text/plain": [
       "<Figure size 500x400 with 1 Axes>"
      ]
     },
     "metadata": {},
     "output_type": "display_data"
    }
   ],
   "source": [
    "import matplotlib.pyplot as plt\n",
    "\n",
    "with open(os.path.join(ROOT_DIR, \"data\", \"results.json\"), \"r\", encoding=\"utf8\") as _f:\n",
    "\tall_results = json.load(_f)\n",
    "\n",
    "blind_negex_f1 = sorted([result[\"metrics\"][\"f1\"] for result in all_results[\"BlindNegex\"]])\n",
    "negex_f1 = sorted([result[\"metrics\"][\"f1\"] for result in all_results[\"Negex\"]])\n",
    "crf_f1 = sorted([result[\"metrics\"][\"f1\"] for result in all_results[\"CRF\"]])\n",
    "\n",
    "plt.figure(figsize=(5, 4))\n",
    "plt.title(\"F1 Score timeline\")\n",
    "l1 = len(blind_negex_f1)\n",
    "l2 = len(negex_f1)\n",
    "l3 = len(crf_f1)\n",
    "plt.plot(range(l1), blind_negex_f1, marker='o', color='red')\n",
    "plt.plot(range(l1, l1+l2), negex_f1, marker='o', color='blue')\n",
    "plt.plot(range(l1+l2, l1+l2+l3), crf_f1, marker='o', color='green')\n",
    "plt.text(0, blind_negex_f1[0]-0.004, f\"{blind_negex_f1[0]:.2f}\", color='red', verticalalignment='top', horizontalalignment='left')\n",
    "plt.text(l1, negex_f1[0]-0.004, f\"{negex_f1[0]:.2f}\", color='blue', verticalalignment='top', horizontalalignment='left')\n",
    "plt.text(l1+l2-1, negex_f1[-1]+0.003, f\"{negex_f1[-1]:.2f}\", color='blue', verticalalignment='bottom', horizontalalignment='right')\n",
    "plt.text(l1+l2-0.5, crf_f1[0], f\"{crf_f1[0]:.2f}\", color='green', verticalalignment='bottom', horizontalalignment='right')\n",
    "plt.text(l1+l2+l3-1, crf_f1[-1]+0.003, f\"{crf_f1[-1]:.2f}\", color='green', verticalalignment='bottom', horizontalalignment='right')\n",
    "\n",
    "plt.legend([\"Blind Negex\", \"Negex\", \"CRF\"], loc=\"lower right\")\n",
    "plt.xlabel(\"Iteration\")\n",
    "plt.ylabel(\"F1 Score\")\n",
    "plt.xticks([])\n",
    "plt.ylim(0.75, 1)\n",
    "plt.grid()\n",
    "plt.show()"
   ]
  }
 ],
 "metadata": {
  "kernelspec": {
   "display_name": "nlp",
   "language": "python",
   "name": "python3"
  },
  "language_info": {
   "codemirror_mode": {
    "name": "ipython",
    "version": 3
   },
   "file_extension": ".py",
   "mimetype": "text/x-python",
   "name": "python",
   "nbconvert_exporter": "python",
   "pygments_lexer": "ipython3",
   "version": "3.11.8"
  }
 },
 "nbformat": 4,
 "nbformat_minor": 2
}
