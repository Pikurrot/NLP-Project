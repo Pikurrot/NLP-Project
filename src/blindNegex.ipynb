{
 "cells": [
  {
   "cell_type": "code",
   "execution_count": null,
   "metadata": {},
   "outputs": [],
   "source": [
    "from blindNegex import read_negations, process_text\n",
    "\n",
    "# Example usage\n",
    "negations_file = '../data/negation_speculation_word.txt'\n",
    "text_file = '../data/sentences.txt'\n",
    "output_file = '../data/output_bilnd_negex.txt'\n",
    "\n",
    "negations = read_negations(negations_file)\n",
    "process_text(text_file, output_file, negations)"
   ]
  }
 ],
 "metadata": {
  "kernelspec": {
   "display_name": "base",
   "language": "python",
   "name": "python3"
  },
  "language_info": {
   "codemirror_mode": {
    "name": "ipython",
    "version": 3
   },
   "file_extension": ".py",
   "mimetype": "text/x-python",
   "name": "python",
   "nbconvert_exporter": "python",
   "pygments_lexer": "ipython3",
   "version": "3.11.8"
  }
 },
 "nbformat": 4,
 "nbformat_minor": 2
}
