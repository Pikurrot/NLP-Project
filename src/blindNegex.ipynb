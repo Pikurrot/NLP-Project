{
 "cells": [
  {
   "cell_type": "code",
   "execution_count": 1,
   "metadata": {},
   "outputs": [
    {
     "name": "stderr",
     "output_type": "stream",
     "text": [
      "100%|██████████| 254/254 [00:02<00:00, 87.71it/s] \n",
      "100%|██████████| 64/64 [00:00<00:00, 80.63it/s]\n"
     ]
    }
   ],
   "source": [
    "from blindNegex import *\n",
    "import json\n",
    "import os\n",
    "from time import time\n",
    "\n",
    "ROOT_DIR = os.path.dirname(os.path.abspath(\"\"))\n",
    "negations_file = '../data/negation_speculation_word.txt'\n",
    "output_file_training = \"../data/output_blind_negex_training.json\"\n",
    "output_file_testing = \"../data/output_blind_negex_testing.json\"\n",
    "\n",
    "# Load training data and process\n",
    "data_training = json.load(open(os.path.join(ROOT_DIR, \"data\", \"training_data.json\")))\n",
    "negations = read_negations(negations_file)\n",
    "process_text(data_training, negations, output_file_training)\n",
    "\n",
    "# Load testing data and process\n",
    "data_testing = json.load(open(os.path.join(ROOT_DIR, \"data\", \"test_data.json\")))\n",
    "start_time = time()\n",
    "process_text(data_testing, negations, output_file_testing)\n",
    "time_taken = time() - start_time"
   ]
  },
  {
   "cell_type": "code",
   "execution_count": 2,
   "metadata": {},
   "outputs": [
    {
     "data": {
      "text/plain": [
       "0.8621091842651367"
      ]
     },
     "execution_count": 2,
     "metadata": {},
     "output_type": "execute_result"
    }
   ],
   "source": [
    "time_taken"
   ]
  }
 ],
 "metadata": {
  "kernelspec": {
   "display_name": "base",
   "language": "python",
   "name": "python3"
  },
  "language_info": {
   "codemirror_mode": {
    "name": "ipython",
    "version": 3
   },
   "file_extension": ".py",
   "mimetype": "text/x-python",
   "name": "python",
   "nbconvert_exporter": "python",
   "pygments_lexer": "ipython3",
   "version": "3.11.4"
  }
 },
 "nbformat": 4,
 "nbformat_minor": 2
}
