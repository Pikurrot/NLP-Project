{
 "cells": [
  {
   "cell_type": "code",
   "execution_count": null,
   "metadata": {},
   "outputs": [],
   "source": [
    "#TODO Cambiar los tags del modelo para que sean los mismos que en la true labels \n",
    "#TODO Mirar de cambiar lo del modelo de .replace por lo que he hecho hoy, a ver si cambia el resultado para bien\n"
   ]
  },
  {
   "cell_type": "code",
   "execution_count": 5,
   "metadata": {},
   "outputs": [],
   "source": [
    "import json\n",
    "import re\n",
    "import random\n",
    "import numpy as np\n",
    "import nltk\n",
    "from sklearn.metrics import precision_score, recall_score, f1_score"
   ]
  },
  {
   "cell_type": "code",
   "execution_count": null,
   "metadata": {},
   "outputs": [],
   "source": [
    "class EvalOfficial:\n",
    "    def __init__(self):\n",
    "        pass\n",
    "    \n",
    "    def process(self, data):\n",
    "        final_chars = []\n",
    "        for i in range(len(data)):\n",
    "            text = data[i]['data']['text']\n",
    "            chars = list(text)\n",
    "            for value in data[i]['predictions'][0]['result']:\n",
    "                index = (value['value']['start'], value['value']['end'])\n",
    "                label = value['value']['labels'][0]\n",
    "                for j in range(index[0], index[1]-1):\n",
    "                    chars[j] = label\n",
    "            final_chars.extend(chars)\n",
    "        return final_chars\n",
    "\n",
    "    def calc(self, pred, groundtruth):\n",
    "        pred = self.process(pred)\n",
    "        print(pred[350:500])\n",
    "        gt = self.process(groundtruth)\n",
    "        precision = precision_score(gt, pred, average='micro')\n",
    "        recall = recall_score(gt, pred, average='micro')\n",
    "        f1 = f1_score(gt, pred, average='micro')\n",
    "        return precision, recall, f1\n",
    "\n",
    "        \n",
    "with open('../data/negacio_test_v2024.json', 'r', encoding='utf8') as _f:\n",
    "    test_data = json.load(_f)\n",
    "metric = EvalOfficial()\n",
    "p, r, f1 = metric.calc(test_data, test_data)\n",
    "print(f'Precision: {p}, Recall:{r}, F1:{f1}')"
   ]
  },
  {
   "cell_type": "code",
   "execution_count": 21,
   "metadata": {},
   "outputs": [
    {
     "name": "stdout",
     "output_type": "stream",
     "text": [
      "Precision: 0.049828288860856704, Recall:0.049828288860856704, F1:0.049828288860856704\n"
     ]
    }
   ],
   "source": [
    "#TODO coger cada linea del texto. Hacer .strip(). Mirar si hay algo entre corchetes y cambiarlo a un caracter especifico. Hacer lo mismo que en eval.\n",
    "def process(file_path):\n",
    "    all_characters = []\n",
    "\n",
    "    with open(file_path, 'r') as file:\n",
    "        for line in file:\n",
    "\n",
    "            line = re.sub(r'(?<=\\[NEG\\]).*(?=\\[NEG\\])', lambda x: 'G' * len(x.group()), line)\n",
    "            line = re.sub(r'(?<=\\[UNC\\]).*(?=\\[UNC\\])', lambda x: 'C' * len(x.group()), line)\n",
    "            line = re.sub(r'(?<=\\[NSCO\\]).*(?=\\[NSCO\\])', lambda x: 'N' * len(x.group()), line)\n",
    "            line = re.sub(r'(?<=\\[USCO\\]).*(?=\\[USCO\\])', lambda x: 'U' * len(x.group()), line)\n",
    "            # Remove leading and trailing spaces and convert the line to a list of characters\n",
    "            line_characters = list(line.strip())\n",
    "            # Extend the list of characters with the characters from the current line\n",
    "            all_characters.extend(line_characters)\n",
    "\n",
    "    return all_characters\n",
    "\n",
    "def pad_list(lst, length, padding_char='O'):\n",
    "    if len(lst) >= length:\n",
    "        return lst\n",
    "    else:\n",
    "        padding = [padding_char] * (length - len(lst))\n",
    "        padded_lst = lst + padding\n",
    "        return padded_lst\n",
    "\n",
    "def calc(pred, groundtruth):\n",
    "    pred = process(pred)\n",
    "    gt = process(groundtruth)\n",
    "    gt = pad_list(gt, len(pred), 'O')\n",
    "    precision = precision_score(gt, pred, average='micro')\n",
    "    recall = recall_score(gt, pred, average='micro')\n",
    "    f1 = f1_score(gt, pred, average='micro')\n",
    "    return precision, recall, f1\n",
    "\n",
    "\n",
    "# Example usage:\n",
    "groundtruth = '../data/true_labels.txt'  # Replace 'example.txt' with the path to your text file\n",
    "predicted = '../data/output_blind_negex.txt'\n",
    "p, r, f1 = calc(predicted, groundtruth)\n",
    "print(f'Precision: {p}, Recall:{r}, F1:{f1}')"
   ]
  }
 ],
 "metadata": {
  "kernelspec": {
   "display_name": "base",
   "language": "python",
   "name": "python3"
  },
  "language_info": {
   "codemirror_mode": {
    "name": "ipython",
    "version": 3
   },
   "file_extension": ".py",
   "mimetype": "text/x-python",
   "name": "python",
   "nbconvert_exporter": "python",
   "pygments_lexer": "ipython3",
   "version": "3.11.4"
  }
 },
 "nbformat": 4,
 "nbformat_minor": 2
}
