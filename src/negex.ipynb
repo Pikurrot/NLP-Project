{
 "cells": [
  {
   "cell_type": "code",
   "execution_count": 4,
   "metadata": {},
   "outputs": [],
   "source": [
    "from preprocessing import *\n",
    "import os\n",
    "import negex\n",
    "\n",
    "ROOT_DIR = os.path.dirname(os.path.abspath(\"\"))\n",
    "\n",
    "test_data = json.load(open(os.path.join(ROOT_DIR, \"data\", \"test_data.json\"), \"r\"))"
   ]
  },
  {
   "cell_type": "code",
   "execution_count": 3,
   "metadata": {},
   "outputs": [
    {
     "name": "stderr",
     "output_type": "stream",
     "text": [
      "100%|██████████| 64/64 [00:23<00:00,  2.78it/s]\n"
     ]
    }
   ],
   "source": [
    "sents = sent_tokenize_corpus(test_data)"
   ]
  },
  {
   "cell_type": "code",
   "execution_count": 5,
   "metadata": {},
   "outputs": [
    {
     "name": "stderr",
     "output_type": "stream",
     "text": [
      "100%|██████████| 64/64 [00:01<00:00, 51.49it/s]\n"
     ]
    }
   ],
   "source": [
    "nlp_es, nlp_cat = load_nlps()\n",
    "tokens = tokenize_corpus(sents, nlp_es, nlp_cat)"
   ]
  },
  {
   "cell_type": "code",
   "execution_count": 6,
   "metadata": {},
   "outputs": [
    {
     "name": "stderr",
     "output_type": "stream",
     "text": [
      "100%|██████████| 64/64 [00:21<00:00,  3.01it/s]\n"
     ]
    }
   ],
   "source": [
    "tokens_lemmatized = lemmatize_corpus(tokens, nlp_es, nlp_cat)"
   ]
  },
  {
   "cell_type": "code",
   "execution_count": 7,
   "metadata": {},
   "outputs": [],
   "source": [
    "save_tokens(tokens_lemmatized, os.path.join(ROOT_DIR, \"data\", \"test_data_tokens.json\"))"
   ]
  },
  {
   "cell_type": "code",
   "execution_count": 2,
   "metadata": {},
   "outputs": [],
   "source": [
    "tokens_lemmatized = load_tokens(os.path.join(ROOT_DIR, \"data\", \"test_data_tokens.json\"))"
   ]
  },
  {
   "cell_type": "code",
   "execution_count": 9,
   "metadata": {},
   "outputs": [
    {
     "name": "stderr",
     "output_type": "stream",
     "text": [
      "100%|██████████| 64/64 [00:03<00:00, 20.77it/s]\n"
     ]
    }
   ],
   "source": [
    "predictions = negex.process_data(tokens_lemmatized)"
   ]
  },
  {
   "cell_type": "code",
   "execution_count": 10,
   "metadata": {},
   "outputs": [],
   "source": [
    "predictions_copy = predictions.copy()"
   ]
  },
  {
   "cell_type": "code",
   "execution_count": 5,
   "metadata": {},
   "outputs": [],
   "source": [
    "negex.write_predictions(test_data, predictions_copy, \"test_data_predictions.json\")"
   ]
  },
  {
   "cell_type": "code",
   "execution_count": 18,
   "metadata": {},
   "outputs": [
    {
     "name": "stdout",
     "output_type": "stream",
     "text": [
      "Testing\n",
      "Precision: 0.8814994578406568, Recall:0.8814994578406568, F1:0.8814994578406568\n"
     ]
    }
   ],
   "source": [
    "from eval import EvalOfficial\n",
    "\n",
    "with open(os.path.join(ROOT_DIR, \"data\", 'test_data.json'), 'r', encoding='utf8') as _f:\n",
    "\ttest_data = json.load(_f)\n",
    "\n",
    "with open(os.path.join(ROOT_DIR, \"data\", 'test_data_predictions.json'), 'r', encoding='utf8') as _f:\n",
    "\ttest_data_predictions = json.load(_f)\n",
    "\n",
    "metric = EvalOfficial()\n",
    "p, r, f1 = metric.calc(test_data_predictions, test_data)\n",
    "print(\"Testing\")\n",
    "print(f'Precision: {p}, Recall:{r}, F1:{f1}')"
   ]
  },
  {
   "cell_type": "markdown",
   "metadata": {},
   "source": [
    "### Experimentation"
   ]
  },
  {
   "cell_type": "code",
   "execution_count": 1,
   "metadata": {},
   "outputs": [],
   "source": [
    "from eval import *\n",
    "from preprocessing import *\n",
    "import os\n",
    "\n",
    "ROOT_DIR = os.path.dirname(os.path.abspath(\"\"))\n",
    "\n",
    "eval = EvalNegex(\n",
    "\tos.path.join(ROOT_DIR, \"temp\"),\n",
    "\tos.path.join(ROOT_DIR, \"data\"),\n",
    "\tos.path.join(ROOT_DIR, \"data\", 'test_data.json'),\n",
    "\tload_existing_tokens=True\n",
    ")"
   ]
  },
  {
   "cell_type": "code",
   "execution_count": 2,
   "metadata": {},
   "outputs": [
    {
     "name": "stderr",
     "output_type": "stream",
     "text": [
      "100%|██████████| 64/64 [00:03<00:00, 21.03it/s]\n"
     ]
    },
    {
     "data": {
      "text/plain": [
       "{'precision': 0.8851533384562582,\n",
       " 'recall': 0.8851533384562582,\n",
       " 'f1': 0.8851533384562582,\n",
       " 'time': 3.2112}"
      ]
     },
     "execution_count": 2,
     "metadata": {},
     "output_type": "execute_result"
    }
   ],
   "source": [
    "eval.evaluate(max_context_size=5)"
   ]
  },
  {
   "cell_type": "code",
   "execution_count": 3,
   "metadata": {},
   "outputs": [
    {
     "name": "stderr",
     "output_type": "stream",
     "text": [
      "100%|██████████| 64/64 [00:03<00:00, 21.28it/s]\n",
      "100%|██████████| 64/64 [00:03<00:00, 20.58it/s]\n",
      "100%|██████████| 64/64 [00:02<00:00, 22.25it/s]\n",
      "100%|██████████| 64/64 [00:02<00:00, 22.35it/s]\n",
      "100%|██████████| 64/64 [00:02<00:00, 22.20it/s]\n",
      "100%|██████████| 64/64 [00:02<00:00, 22.25it/s]\n",
      "100%|██████████| 64/64 [00:03<00:00, 20.21it/s]\n",
      "100%|██████████| 64/64 [00:02<00:00, 21.68it/s]\n",
      "100%|██████████| 64/64 [00:03<00:00, 20.07it/s]\n",
      "100%|██████████| 64/64 [00:03<00:00, 21.14it/s]\n",
      "100%|██████████| 64/64 [00:02<00:00, 21.81it/s]\n",
      "100%|██████████| 64/64 [00:02<00:00, 21.42it/s]\n",
      "100%|██████████| 64/64 [00:02<00:00, 21.34it/s]\n",
      "100%|██████████| 64/64 [00:03<00:00, 21.29it/s]\n"
     ]
    }
   ],
   "source": [
    "for i in range(1, 15):\n",
    "\teval.evaluate(max_context_size=i)"
   ]
  },
  {
   "cell_type": "code",
   "execution_count": 26,
   "metadata": {},
   "outputs": [],
   "source": [
    "results = json.load(open(os.path.join(ROOT_DIR, \"data\", \"results.json\"), \"r\"))[\"Negex\"]\n",
    "results = sorted(results, key=lambda x: x[\"hyperparameters\"][\"max_context_size\"])\n",
    "precision, recall, f1, times = [], [], [], []\n",
    "for i in range(1, 15):\n",
    "\tprecision.append(results[i - 1][\"metrics\"][\"precision\"])\n",
    "\trecall.append(results[i - 1][\"metrics\"][\"recall\"])\n",
    "\tf1.append(results[i - 1][\"metrics\"][\"f1\"])\n",
    "\ttimes.append(results[i - 1][\"metrics\"][\"time\"])"
   ]
  },
  {
   "cell_type": "code",
   "execution_count": 24,
   "metadata": {},
   "outputs": [
    {
     "data": {
      "image/png": "[encoded data removed]",
      "text/plain": [
       "<Figure size 640x480 with 1 Axes>"
      ]
     },
     "metadata": {},
     "output_type": "display_data"
    }
   ],
   "source": [
    "import seaborn as sns\n",
    "import matplotlib.pyplot as plt\n",
    "\n",
    "sns.set_theme(\"paper\")\n",
    "sns.set_context(\"paper\")\n",
    "sns.set_style(\"whitegrid\")\n",
    "\n",
    "plt.plot(range(1, 15), precision, label=\"Precision\", marker=\"o\", color=\"blue\")\n",
    "# highlight value at 5\n",
    "plt.plot(5, precision[4], marker=\"o\", color=\"red\")\n",
    "plt.text(5, precision[4], \"  original\", ha=\"left\", va=\"bottom\")\n",
    "plt.xlabel(\"Max Context Size\")\n",
    "plt.ylabel(\"Score\")\n",
    "plt.legend()\n",
    "plt.show()"
   ]
  },
  {
   "cell_type": "code",
   "execution_count": 25,
   "metadata": {},
   "outputs": [
    {
     "data": {
      "text/plain": [
       "0.8966799194506119"
      ]
     },
     "execution_count": 25,
     "metadata": {},
     "output_type": "execute_result"
    }
   ],
   "source": [
    "precision[0]"
   ]
  },
  {
   "cell_type": "code",
   "execution_count": 27,
   "metadata": {},
   "outputs": [
    {
     "data": {
      "text/plain": [
       "3.118721428571429"
      ]
     },
     "execution_count": 27,
     "metadata": {},
     "output_type": "execute_result"
    }
   ],
   "source": [
    "avg_time = sum(times) / len(times)\n",
    "avg_time"
   ]
  }
 ],
 "metadata": {
  "kernelspec": {
   "display_name": "nlp",
   "language": "python",
   "name": "python3"
  },
  "language_info": {
   "codemirror_mode": {
    "name": "ipython",
    "version": 3
   },
   "file_extension": ".py",
   "mimetype": "text/x-python",
   "name": "python",
   "nbconvert_exporter": "python",
   "pygments_lexer": "ipython3",
   "version": "3.11.8"
  }
 },
 "nbformat": 4,
 "nbformat_minor": 2
}
