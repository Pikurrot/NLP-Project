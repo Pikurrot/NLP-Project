{
 "cells": [
  {
   "cell_type": "code",
   "execution_count": 1,
   "metadata": {},
   "outputs": [
    {
     "name": "stdout",
     "output_type": "stream",
     "text": [
      "{'This': 'O', 'is': 'O', 'a': 'O', 'sample': 'B', 'text': 'I', 'with': 'O', 'some': 'O', 'words.': 'O'}\n"
     ]
    }
   ],
   "source": [
    "def find_sublist(lst, sublist):\n",
    "    for i in range(len(lst) - len(sublist) + 1):\n",
    "        if lst[i:i+len(sublist)] == sublist:\n",
    "            return True, i\n",
    "    return False, -1\n",
    "\n",
    "def label_sublist(words_list, sublist):\n",
    "    labeled_dict = {}\n",
    "    found, start_index = find_sublist(words_list, sublist)\n",
    "    if not found:\n",
    "        return None\n",
    "\n",
    "    for word in words_list:\n",
    "        labeled_dict[word] = 'O'\n",
    "\n",
    "    for i, word in enumerate(words_list):\n",
    "        if i == start_index:\n",
    "            labeled_dict[word] = 'B'\n",
    "        elif start_index < i < start_index + len(sublist):\n",
    "            labeled_dict[word] = 'I'\n",
    "\n",
    "    return labeled_dict\n",
    "\n",
    "# Example usage:\n",
    "main_list = \"This is a sample text with some words.\".split()\n",
    "sub_list = \"sample text\".split()\n",
    "\n",
    "labeled_dict = label_sublist(main_list, sub_list)\n",
    "if labeled_dict:\n",
    "    print(labeled_dict)"
   ]
  }
 ],
 "metadata": {
  "kernelspec": {
   "display_name": "base",
   "language": "python",
   "name": "python3"
  },
  "language_info": {
   "codemirror_mode": {
    "name": "ipython",
    "version": 3
   },
   "file_extension": ".py",
   "mimetype": "text/x-python",
   "name": "python",
   "nbconvert_exporter": "python",
   "pygments_lexer": "ipython3",
   "version": "3.11.4"
  }
 },
 "nbformat": 4,
 "nbformat_minor": 2
}
