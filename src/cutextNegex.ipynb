{
 "cells": [
  {
   "cell_type": "code",
   "execution_count": 1,
   "metadata": {},
   "outputs": [],
   "source": [
    "from preprocessing import *\n",
    "import os\n",
    "import cutextNegex\n",
    "\n",
    "ROOT_DIR = os.path.dirname(os.path.abspath(\"\"))\n",
    "\n",
    "test_data = json.load(open(os.path.join(ROOT_DIR, \"data\", \"test_data.json\"), \"r\"))"
   ]
  },
  {
   "cell_type": "code",
   "execution_count": 3,
   "metadata": {},
   "outputs": [
    {
     "name": "stderr",
     "output_type": "stream",
     "text": [
      "100%|██████████| 64/64 [00:23<00:00,  2.78it/s]\n"
     ]
    }
   ],
   "source": [
    "sents = sent_tokenize_corpus(test_data)"
   ]
  },
  {
   "cell_type": "code",
   "execution_count": 5,
   "metadata": {},
   "outputs": [
    {
     "name": "stderr",
     "output_type": "stream",
     "text": [
      "100%|██████████| 64/64 [00:01<00:00, 51.49it/s]\n"
     ]
    }
   ],
   "source": [
    "nlp_es, nlp_cat = load_nlps()\n",
    "tokens = tokenize_corpus(sents, nlp_es, nlp_cat)"
   ]
  },
  {
   "cell_type": "code",
   "execution_count": 6,
   "metadata": {},
   "outputs": [
    {
     "name": "stderr",
     "output_type": "stream",
     "text": [
      "100%|██████████| 64/64 [00:21<00:00,  3.01it/s]\n"
     ]
    }
   ],
   "source": [
    "tokens_lemmatized = lemmatize_corpus(tokens, nlp_es, nlp_cat)"
   ]
  },
  {
   "cell_type": "code",
   "execution_count": 7,
   "metadata": {},
   "outputs": [],
   "source": [
    "save_tokens(tokens_lemmatized, os.path.join(ROOT_DIR, \"data\", \"test_data_tokens.json\"))"
   ]
  },
  {
   "cell_type": "code",
   "execution_count": 8,
   "metadata": {},
   "outputs": [
    {
     "name": "stderr",
     "output_type": "stream",
     "text": [
      "100%|██████████| 64/64 [23:49<00:00, 22.34s/it]\n"
     ]
    }
   ],
   "source": [
    "predictions = cutextNegex.process_data(tokens_lemmatized, cutext_path=\"/media/eric/D/repos/_internet_/CUTEXT\")"
   ]
  },
  {
   "cell_type": "code",
   "execution_count": 9,
   "metadata": {},
   "outputs": [],
   "source": [
    "predictions_copy = predictions.copy()"
   ]
  },
  {
   "cell_type": "code",
   "execution_count": 17,
   "metadata": {},
   "outputs": [],
   "source": [
    "def _convert_int64_to_int(obj):\n",
    "\tif isinstance(obj, np.int64):\n",
    "\t\treturn int(obj)\n",
    "\treturn obj\n",
    "\n",
    "def write_predictions(\n",
    "\t\tdata: List[Dict],\n",
    "\t\tpredictions: List[Dict],\n",
    "\t\tname: str\n",
    "):\n",
    "\tdata_copy = data.copy()\n",
    "\tfor i in range(len(data_copy)):\n",
    "\t\tdata_copy[i][\"predictions\"] = []\n",
    "\t\tdata_copy[i][\"predictions\"].append(predictions[i])\n",
    "\twith open(os.path.join(ROOT_DIR, \"data\", name), \"w\") as f:\n",
    "\t\tjson.dump(data_copy, f, default=_convert_int64_to_int)\n",
    "\n",
    "write_predictions(test_data, predictions_copy, \"test_data_predictions.json\")"
   ]
  },
  {
   "cell_type": "code",
   "execution_count": 26,
   "metadata": {},
   "outputs": [
    {
     "name": "stdout",
     "output_type": "stream",
     "text": [
      "Testing\n",
      "Precision: 0.8812321748031066, Recall:0.8812321748031066, F1:0.8812321748031066\n"
     ]
    }
   ],
   "source": [
    "from eval import EvalOfficial\n",
    "\n",
    "with open(os.path.join(ROOT_DIR, \"data\", 'test_data.json'), 'r', encoding='utf8') as _f:\n",
    "\ttest_data = json.load(_f)\n",
    "\n",
    "with open(os.path.join(ROOT_DIR, \"data\", 'test_data_predictions.json'), 'r', encoding='utf8') as _f:\n",
    "\ttest_data_predictions = json.load(_f)\n",
    "\n",
    "metric = EvalOfficial()\n",
    "p, r, f1 = metric.calc(test_data, test_data_predictions)\n",
    "print(\"Testing\")\n",
    "print(f'Precision: {p}, Recall:{r}, F1:{f1}')"
   ]
  },
  {
   "cell_type": "code",
   "execution_count": 23,
   "metadata": {},
   "outputs": [
    {
     "data": {
      "text/plain": [
       "[{'result': [{'value': {'start': 395, 'end': 398, 'labels': ['NEG']},\n",
       "    'id': 'ent0',\n",
       "    'from_name': 'label',\n",
       "    'to_name': 'text',\n",
       "    'type': 'labels'},\n",
       "   {'value': {'start': 398, 'end': 422, 'labels': ['NSCO']},\n",
       "    'id': 'ent1',\n",
       "    'from_name': 'label',\n",
       "    'to_name': 'text',\n",
       "    'type': 'labels'},\n",
       "   {'value': {'start': 499, 'end': 505, 'labels': ['NEG']},\n",
       "    'id': 'ent2',\n",
       "    'from_name': 'label',\n",
       "    'to_name': 'text',\n",
       "    'type': 'labels'},\n",
       "   {'value': {'start': 505, 'end': 521, 'labels': ['NSCO']},\n",
       "    'id': 'ent3',\n",
       "    'from_name': 'label',\n",
       "    'to_name': 'text',\n",
       "    'type': 'labels'},\n",
       "   {'value': {'start': 1107, 'end': 1111, 'labels': ['NSCO']},\n",
       "    'id': 'ent4',\n",
       "    'from_name': 'label',\n",
       "    'to_name': 'text',\n",
       "    'type': 'labels'},\n",
       "   {'value': {'start': 1141, 'end': 1144, 'labels': ['NEG']},\n",
       "    'id': 'ent5',\n",
       "    'from_name': 'label',\n",
       "    'to_name': 'text',\n",
       "    'type': 'labels'},\n",
       "   {'value': {'start': 1163, 'end': 1166, 'labels': ['NEG']},\n",
       "    'id': 'ent6',\n",
       "    'from_name': 'label',\n",
       "    'to_name': 'text',\n",
       "    'type': 'labels'},\n",
       "   {'value': {'start': 1174, 'end': 1194, 'labels': ['NSCO']},\n",
       "    'id': 'ent7',\n",
       "    'from_name': 'label',\n",
       "    'to_name': 'text',\n",
       "    'type': 'labels'},\n",
       "   {'value': {'start': 2118, 'end': 2122, 'labels': ['NEG']},\n",
       "    'id': 'ent8',\n",
       "    'from_name': 'label',\n",
       "    'to_name': 'text',\n",
       "    'type': 'labels'},\n",
       "   {'value': {'start': 1111, 'end': 1119, 'labels': ['NEG']},\n",
       "    'id': 'ent9',\n",
       "    'from_name': 'label',\n",
       "    'to_name': 'text',\n",
       "    'type': 'labels'},\n",
       "   {'value': {'start': 1144, 'end': 1150, 'labels': ['NSCO']},\n",
       "    'id': 'ent10',\n",
       "    'from_name': 'label',\n",
       "    'to_name': 'text',\n",
       "    'type': 'labels'},\n",
       "   {'value': {'start': 1166, 'end': 1172, 'labels': ['NSCO']},\n",
       "    'id': 'ent11',\n",
       "    'from_name': 'label',\n",
       "    'to_name': 'text',\n",
       "    'type': 'labels'},\n",
       "   {'value': {'start': 1194, 'end': 1203, 'labels': ['NEG']},\n",
       "    'id': 'ent12',\n",
       "    'from_name': 'label',\n",
       "    'to_name': 'text',\n",
       "    'type': 'labels'},\n",
       "   {'value': {'start': 2122, 'end': 2133, 'labels': ['NSCO']},\n",
       "    'id': 'ent13',\n",
       "    'from_name': 'label',\n",
       "    'to_name': 'text',\n",
       "    'type': 'labels'}]}]"
      ]
     },
     "execution_count": 23,
     "metadata": {},
     "output_type": "execute_result"
    }
   ],
   "source": [
    "test_data[0][\"predictions\"]"
   ]
  },
  {
   "cell_type": "code",
   "execution_count": 24,
   "metadata": {},
   "outputs": [
    {
     "data": {
      "text/plain": [
       "[{'result': [{'value': {'start': 398, 'end': 421, 'labels': ['NEG']}},\n",
       "   {'value': {'start': 1304, 'end': 1347, 'labels': ['NEG']}},\n",
       "   {'value': {'start': 2122, 'end': 2133, 'labels': ['NEG']}},\n",
       "   {'value': {'start': 2468, 'end': 2506, 'labels': ['SPEC']}}]}]"
      ]
     },
     "execution_count": 24,
     "metadata": {},
     "output_type": "execute_result"
    }
   ],
   "source": [
    "test_data_predictions[0][\"predictions\"]"
   ]
  },
  {
   "cell_type": "code",
   "execution_count": 27,
   "metadata": {},
   "outputs": [],
   "source": [
    "import cutext\n",
    "cutext.clean_temp()"
   ]
  }
 ],
 "metadata": {
  "kernelspec": {
   "display_name": "nlp",
   "language": "python",
   "name": "python3"
  },
  "language_info": {
   "codemirror_mode": {
    "name": "ipython",
    "version": 3
   },
   "file_extension": ".py",
   "mimetype": "text/x-python",
   "name": "python",
   "nbconvert_exporter": "python",
   "pygments_lexer": "ipython3",
   "version": "3.11.8"
  }
 },
 "nbformat": 4,
 "nbformat_minor": 2
}
