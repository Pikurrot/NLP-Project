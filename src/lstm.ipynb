{
 "cells": [
  {
   "cell_type": "code",
   "execution_count": 11,
   "metadata": {},
   "outputs": [],
   "source": [
    "import os\n",
    "import matplotlib.pyplot as plt\n",
    "import torch\n",
    "from eval import *\n",
    "from preprocessing import *\n",
    "from lstm import load_fasttext\n",
    "\n",
    "ROOT_DIR = os.path.dirname(os.path.abspath(\"\"))"
   ]
  },
  {
   "cell_type": "code",
   "execution_count": 3,
   "metadata": {},
   "outputs": [],
   "source": [
    "# split data into training and validation\n",
    "val_frac = 0.2\n",
    "with open(os.path.join(ROOT_DIR, \"data\", \"training_data.json\"), \"r\", encoding=\"utf8\") as _f:\n",
    "\ttrain_data = json.load(_f)\n",
    "\n",
    "val_docs = int(val_frac * len(train_data))\n",
    "val_data = train_data[:val_docs]\n",
    "with open(os.path.join(ROOT_DIR, \"data\", \"val_set_data.json\"), \"w\", encoding=\"utf8\") as _f:\n",
    "\tjson.dump(val_data, _f)\n",
    "new_train_data = train_data[val_docs:]\n",
    "with open(os.path.join(ROOT_DIR, \"data\", \"train_set_data.json\"), \"w\", encoding=\"utf8\") as _f:\n",
    "\tjson.dump(new_train_data, _f)"
   ]
  },
  {
   "cell_type": "code",
   "execution_count": 7,
   "metadata": {},
   "outputs": [
    {
     "name": "stderr",
     "output_type": "stream",
     "text": [
      "Warning : `load_model` does not return WordVectorModel or SupervisedModel any more, but a `FastText` object which is very similar.\n"
     ]
    }
   ],
   "source": [
    "ft = load_fasttext()"
   ]
  },
  {
   "cell_type": "code",
   "execution_count": 8,
   "metadata": {},
   "outputs": [
    {
     "name": "stdout",
     "output_type": "stream",
     "text": [
      "Creating evaluation tokens...\n"
     ]
    },
    {
     "name": "stderr",
     "output_type": "stream",
     "text": [
      "100%|██████████| 50/50 [00:14<00:00,  3.45it/s]\n",
      "100%|██████████| 50/50 [00:00<00:00, 67.04it/s]\n"
     ]
    },
    {
     "name": "stdout",
     "output_type": "stream",
     "text": [
      "Creating training tokens...\n"
     ]
    },
    {
     "name": "stderr",
     "output_type": "stream",
     "text": [
      "100%|██████████| 204/204 [00:59<00:00,  3.40it/s]\n",
      "100%|██████████| 204/204 [00:02<00:00, 72.90it/s]\n"
     ]
    },
    {
     "name": "stdout",
     "output_type": "stream",
     "text": [
      "Precomputing training POS tags...\n"
     ]
    },
    {
     "name": "stderr",
     "output_type": "stream",
     "text": [
      "100%|██████████| 204/204 [00:49<00:00,  4.11it/s]\n"
     ]
    },
    {
     "name": "stdout",
     "output_type": "stream",
     "text": [
      "Precomputing evaluation POS tags...\n"
     ]
    },
    {
     "name": "stderr",
     "output_type": "stream",
     "text": [
      "100%|██████████| 50/50 [00:12<00:00,  3.97it/s]\n"
     ]
    },
    {
     "name": "stdout",
     "output_type": "stream",
     "text": [
      "Loading NLP models...\n",
      "Precomputing training lemmas...\n"
     ]
    },
    {
     "name": "stderr",
     "output_type": "stream",
     "text": [
      "100%|██████████| 204/204 [00:54<00:00,  3.72it/s]\n"
     ]
    },
    {
     "name": "stdout",
     "output_type": "stream",
     "text": [
      "Precomputing evaluation lemmas...\n"
     ]
    },
    {
     "name": "stderr",
     "output_type": "stream",
     "text": [
      "100%|██████████| 50/50 [00:12<00:00,  4.09it/s]\n"
     ]
    }
   ],
   "source": [
    "eval = EvalLSTM(\n",
    "\tsave_dir=os.path.join(ROOT_DIR, \"temp\"),\n",
    "\tresults_dir=os.path.join(ROOT_DIR, \"data\"),\n",
    "\ttrain_data_path=os.path.join(ROOT_DIR, \"data\", \"train_set_data.json\"),\n",
    "\teval_data_path=os.path.join(ROOT_DIR, \"data\", \"val_set_data.json\"),\n",
    "\tfasttext_model=ft,\n",
    "\tlemmatize=False,\n",
    "\tremove_punctuation=True,\n",
    "\treplace_numbers=None,\n",
    "\tverbose=True\n",
    ")"
   ]
  },
  {
   "cell_type": "code",
   "execution_count": 13,
   "metadata": {},
   "outputs": [
    {
     "name": "stdout",
     "output_type": "stream",
     "text": [
      "cuda\n",
      "Instantiating LSTM...\n",
      "Training LSTM...\n",
      "Preparing training set...\n",
      "Training model...\n",
      "Epoch [1/1], Batch [4600/4600], Loss: 0.0154760777950286876\n",
      "Predicting...\n"
     ]
    },
    {
     "name": "stderr",
     "output_type": "stream",
     "text": [
      "100%|██████████| 1105/1105 [00:08<00:00, 131.37it/s]\n"
     ]
    },
    {
     "name": "stdout",
     "output_type": "stream",
     "text": [
      "Calculating metrics...\n",
      "{'precision': 0.9602037195348162, 'recall': 0.9602037195348162, 'f1': 0.9602037195348162, 'time': 8.9967}\n"
     ]
    },
    {
     "data": {
      "image/png": "[encoded data removed]",
      "text/plain": [
       "<Figure size 640x480 with 1 Axes>"
      ]
     },
     "metadata": {},
     "output_type": "display_data"
    }
   ],
   "source": [
    "device = torch.device(\"cuda\" if torch.cuda.is_available() else \"cpu\")\n",
    "print(device)\n",
    "hyperparams = {\n",
    "\t\"input_dim\": 617,\n",
    "\t\"hidden_dim\": 300,\n",
    "\t\"num_layers\": 2,\n",
    "\t\"output_dim\": 9,\n",
    "\t\"seq_len\": 10,\n",
    "\t\"epochs\": 1,\n",
    "\t\"batch_size\": 32,\n",
    "\t\"learning_rate\": 1e-3,\n",
    "\t\"num_workers\": 12\n",
    "}\n",
    "metrics, losses = eval.evaluate(device, **hyperparams)\n",
    "print(metrics)\n",
    "plt.plot(losses)\n",
    "plt.xlabel(\"Batch\")\n",
    "plt.ylabel(\"Loss\");"
   ]
  },
  {
   "cell_type": "code",
   "execution_count": 14,
   "metadata": {},
   "outputs": [],
   "source": [
    "eval.model.save()"
   ]
  }
 ],
 "metadata": {
  "kernelspec": {
   "display_name": "nlp",
   "language": "python",
   "name": "python3"
  },
  "language_info": {
   "codemirror_mode": {
    "name": "ipython",
    "version": 3
   },
   "file_extension": ".py",
   "mimetype": "text/x-python",
   "name": "python",
   "nbconvert_exporter": "python",
   "pygments_lexer": "ipython3",
   "version": "3.11.8"
  }
 },
 "nbformat": 4,
 "nbformat_minor": 2
}
