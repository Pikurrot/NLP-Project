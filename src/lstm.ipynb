{
 "cells": [
  {
   "cell_type": "code",
   "execution_count": 1,
   "metadata": {},
   "outputs": [],
   "source": [
    "import os\n",
    "import matplotlib.pyplot as plt\n",
    "from preprocessing import *\n",
    "# %pip install fasttext-wheel\n",
    "from lstm import *\n",
    "from crf import create_bio_tags\n",
    "\n",
    "ROOT_DIR = os.path.dirname(os.path.abspath(\"\"))"
   ]
  },
  {
   "cell_type": "code",
   "execution_count": 2,
   "metadata": {},
   "outputs": [
    {
     "name": "stdout",
     "output_type": "stream",
     "text": [
      "cuda\n"
     ]
    }
   ],
   "source": [
    "device = torch.device(\"cuda\" if torch.cuda.is_available() else \"cpu\")\n",
    "print(device)"
   ]
  },
  {
   "cell_type": "code",
   "execution_count": 3,
   "metadata": {},
   "outputs": [
    {
     "name": "stderr",
     "output_type": "stream",
     "text": [
      "Warning : `load_model` does not return WordVectorModel or SupervisedModel any more, but a `FastText` object which is very similar.\n"
     ]
    }
   ],
   "source": [
    "ft = load_fasttext()"
   ]
  },
  {
   "cell_type": "code",
   "execution_count": 13,
   "metadata": {},
   "outputs": [],
   "source": [
    "model = LSTM(\n",
    "\tmodel_path=os.path.join(ROOT_DIR, \"models\", \"lstm_0_2.pt\"),\n",
    "\tdevice=device,\n",
    "\thyperparams={\n",
    "\t\t\"input_dim\": 617,\n",
    "\t\t\"hidden_dim\": 300,\n",
    "\t\t\"num_layers\": 2,\n",
    "\t\t\"output_dim\": 9,\n",
    "\t\t\"seq_len\": 10,\n",
    "\t\t\"epochs\": 1,\n",
    "\t\t\"batch_size\": 32,\n",
    "\t\t\"learning_rate\": 1e-3,\n",
    "\t\t\"num_workers\": 12,\n",
    "\t\t\"dataset_type\": \"overlapping\",\n",
    "\t},\n",
    "\tft=ft,\n",
    "\tverbose=True,\n",
    ")"
   ]
  },
  {
   "cell_type": "code",
   "execution_count": 14,
   "metadata": {},
   "outputs": [
    {
     "name": "stdout",
     "output_type": "stream",
     "text": [
      "Preparing training set...\n",
      "Training model...\n",
      "Epoch [1/1], Batch [5705/5705], Loss: 0.0029780582990497354\n"
     ]
    },
    {
     "data": {
      "text/plain": [
       "[<matplotlib.lines.Line2D at 0x783291fdfa50>]"
      ]
     },
     "execution_count": 14,
     "metadata": {},
     "output_type": "execute_result"
    },
    {
     "data": {
      "image/png": "[encoded data removed]",
      "text/plain": [
       "<Figure size 640x480 with 1 Axes>"
      ]
     },
     "metadata": {},
     "output_type": "display_data"
    }
   ],
   "source": [
    "losses = model.train(\n",
    "\ttrain_tokens_path=os.path.join(ROOT_DIR, \"data\", \"training_data_tokens.json\"),\n",
    "\ttrain_lemmas_path=os.path.join(ROOT_DIR, \"data\", \"training_data_lemmas.json\"),\n",
    "\ttrain_pos_path=os.path.join(ROOT_DIR, \"data\", \"training_data_pos.json\"),\n",
    "\ttrain_labels_path=os.path.join(ROOT_DIR, \"data\", \"training_data_bio.json\"),\n",
    "\tfrac=1.0\n",
    ")\n",
    "plt.plot(losses)"
   ]
  },
  {
   "cell_type": "code",
   "execution_count": 15,
   "metadata": {},
   "outputs": [],
   "source": [
    "model.save()"
   ]
  },
  {
   "cell_type": "code",
   "execution_count": 18,
   "metadata": {},
   "outputs": [
    {
     "name": "stdout",
     "output_type": "stream",
     "text": [
      "Preparing test set...\n"
     ]
    },
    {
     "name": "stderr",
     "output_type": "stream",
     "text": [
      "100%|██████████| 1479/1479 [00:09<00:00, 153.05it/s]"
     ]
    },
    {
     "name": "stdout",
     "output_type": "stream",
     "text": [
      "Test Loss: 0.1081, Test Accuracy: 0.9694\n"
     ]
    },
    {
     "name": "stderr",
     "output_type": "stream",
     "text": [
      "\n"
     ]
    }
   ],
   "source": [
    "loss, accuracy = model.evaluate(\n",
    "\ttest_tokens_path=os.path.join(ROOT_DIR, \"data\", \"test_data_tokens.json\"),\n",
    "\ttest_lemmas_path=os.path.join(ROOT_DIR, \"data\", \"test_data_lemmas.json\"),\n",
    "\ttest_pos_path=os.path.join(ROOT_DIR, \"data\", \"test_data_pos.json\"),\n",
    "\ttest_labels_path=os.path.join(ROOT_DIR, \"data\", \"test_data_bio.json\"),\n",
    "\tfrac=1.0\n",
    ")"
   ]
  },
  {
   "cell_type": "code",
   "execution_count": 16,
   "metadata": {},
   "outputs": [],
   "source": [
    "pred = model.predict(\n",
    "\t[\"vejiga\", \"de\", \"correcta\", \"capacidad\", \"250\", \"cc\", \"de\", \"contraste\", \"de\", \"paredes\", \"trabeculadas\", \"y\", \"con\", \"diverticulos\", \"el\", \"mayor\", \"de\", \"ellos\", \"en\", \"cara\", \"posterolateral\", \"izquierda\", \"sin\", \"observarse\", \"defectos\", \"de\", \"replecion\"],\n",
    "\t[\"vejiga\", \"de\", \"correcto\", \"capacidad\", \"250\", \"cc\", \"de\", \"contraste\", \"de\", \"pared\", \"trabeculada\", \"y\", \"con\", \"diverticulo\", \"el\", \"mayor\", \"de\", \"\\u00e9l\", \"en\", \"cara\", \"posterolateral\", \"izquierdo\", \"sin\", \"observar \\u00e9l\", \"defecto\", \"de\", \"replecion\"],\n",
    "\t[\"NOUN\", \"ADP\", \"ADJ\", \"NOUN\", \"NUM\", \"NUM\", \"ADP\", \"NOUN\", \"ADP\", \"NOUN\", \"ADJ\", \"CCONJ\", \"ADP\", \"NOUN\", \"DET\", \"ADJ\", \"ADP\", \"PRON\", \"ADP\", \"NOUN\", \"ADJ\", \"ADJ\", \"ADP\", \"VERB\", \"PRON\", \"NOUN\", \"ADP\", \"PROPN\"],\n",
    ")"
   ]
  },
  {
   "cell_type": "code",
   "execution_count": 17,
   "metadata": {},
   "outputs": [
    {
     "name": "stdout",
     "output_type": "stream",
     "text": [
      "['O', 'O', 'O', 'O', 'O', 'O', 'O', 'O', 'O', 'O', 'O', 'O', 'O', 'O', 'O', 'O', 'O', 'O', 'O', 'O', 'O', 'O', 'B-NEG', 'B-NSCO', 'I-NSCO', 'I-NSCO', 'I-NSCO']\n"
     ]
    }
   ],
   "source": [
    "print(pred)"
   ]
  },
  {
   "cell_type": "markdown",
   "metadata": {},
   "source": [
    "---"
   ]
  },
  {
   "cell_type": "code",
   "execution_count": 52,
   "metadata": {},
   "outputs": [],
   "source": [
    "class NegationDetectionModel(nn.Module):\n",
    "\tdef __init__(self, input_dim, hidden_dim, num_layers, output_dim):\n",
    "\t\tsuper(NegationDetectionModel, self).__init__()\n",
    "\t\t\n",
    "\t\t# BiLSTM Layer\n",
    "\t\tself.bilstm = nn.LSTM(input_dim, hidden_dim, num_layers, bidirectional=True, batch_first=True)\n",
    "\t\t# Dense Layer\n",
    "\t\tself.fc = nn.Linear(hidden_dim * 2, output_dim)\n",
    "\t\t\n",
    "\tdef forward(self, word_embeds):\n",
    "\t\tlstm_out, _ = self.bilstm(word_embeds)\n",
    "\t\tout = self.fc(lstm_out)\n",
    "\t\treturn out\n",
    "\t\n",
    "model = NegationDetectionModel(617, 300, 2, 9)"
   ]
  },
  {
   "cell_type": "code",
   "execution_count": 53,
   "metadata": {},
   "outputs": [
    {
     "name": "stdout",
     "output_type": "stream",
     "text": [
      "torch.Size([32, 10, 9])\n"
     ]
    }
   ],
   "source": [
    "# example inference\n",
    "word_embeds = torch.randn(32, 10, 617)\n",
    "out = model(word_embeds)\n",
    "print(out.shape)"
   ]
  },
  {
   "cell_type": "code",
   "execution_count": 58,
   "metadata": {},
   "outputs": [],
   "source": [
    "bilstm = nn.LSTM(617, 300, 2, bidirectional=True, batch_first=True)\n",
    "fc = nn.Linear(300 * 2, 9)"
   ]
  },
  {
   "cell_type": "code",
   "execution_count": 55,
   "metadata": {},
   "outputs": [],
   "source": [
    "bilstm_out, _ = bilstm(word_embeds)"
   ]
  },
  {
   "cell_type": "code",
   "execution_count": 57,
   "metadata": {},
   "outputs": [
    {
     "data": {
      "text/plain": [
       "torch.Size([32, 10, 600])"
      ]
     },
     "execution_count": 57,
     "metadata": {},
     "output_type": "execute_result"
    }
   ],
   "source": [
    "bilstm_out.shape"
   ]
  },
  {
   "cell_type": "code",
   "execution_count": 63,
   "metadata": {},
   "outputs": [
    {
     "data": {
      "text/plain": [
       "torch.Size([32, 600])"
      ]
     },
     "execution_count": 63,
     "metadata": {},
     "output_type": "execute_result"
    }
   ],
   "source": [
    "forward_last = bilstm_out[:, -1, :300]\n",
    "backward_last = bilstm_out[:, 0, 300:]\n",
    "concat = torch.cat((forward_last, backward_last), dim=1)\n",
    "concat.shape"
   ]
  },
  {
   "cell_type": "code",
   "execution_count": 64,
   "metadata": {},
   "outputs": [
    {
     "data": {
      "text/plain": [
       "torch.Size([32, 9])"
      ]
     },
     "execution_count": 64,
     "metadata": {},
     "output_type": "execute_result"
    }
   ],
   "source": [
    "out = fc(concat)\n",
    "out.shape"
   ]
  }
 ],
 "metadata": {
  "kernelspec": {
   "display_name": "nlp",
   "language": "python",
   "name": "python3"
  },
  "language_info": {
   "codemirror_mode": {
    "name": "ipython",
    "version": 3
   },
   "file_extension": ".py",
   "mimetype": "text/x-python",
   "name": "python",
   "nbconvert_exporter": "python",
   "pygments_lexer": "ipython3",
   "version": "3.11.8"
  }
 },
 "nbformat": 4,
 "nbformat_minor": 2
}
