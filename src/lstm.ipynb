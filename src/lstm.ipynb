{
 "cells": [
  {
   "cell_type": "code",
   "execution_count": 5,
   "metadata": {},
   "outputs": [
    {
     "name": "stdout",
     "output_type": "stream",
     "text": [
      "cuda\n"
     ]
    }
   ],
   "source": [
    "import os\n",
    "import matplotlib.pyplot as plt\n",
    "import torch\n",
    "from eval import *\n",
    "from preprocessing import *\n",
    "from lstm import load_fasttext\n",
    "\n",
    "ROOT_DIR = os.path.dirname(os.path.abspath(\"\"))\n",
    "\n",
    "device = torch.device(\"cuda\" if torch.cuda.is_available() else \"cpu\")\n",
    "print(device)"
   ]
  },
  {
   "cell_type": "code",
   "execution_count": 2,
   "metadata": {},
   "outputs": [],
   "source": [
    "# split data into training and validation\n",
    "val_frac = 0.2\n",
    "with open(os.path.join(ROOT_DIR, \"data\", \"training_data.json\"), \"r\", encoding=\"utf8\") as _f:\n",
    "\ttrain_data = json.load(_f)\n",
    "\n",
    "val_docs = int(val_frac * len(train_data))\n",
    "val_data = train_data[:val_docs]\n",
    "with open(os.path.join(ROOT_DIR, \"data\", \"val_set_data.json\"), \"w\", encoding=\"utf8\") as _f:\n",
    "\tjson.dump(val_data, _f)\n",
    "new_train_data = train_data[val_docs:]\n",
    "with open(os.path.join(ROOT_DIR, \"data\", \"train_set_data.json\"), \"w\", encoding=\"utf8\") as _f:\n",
    "\tjson.dump(new_train_data, _f)"
   ]
  },
  {
   "cell_type": "code",
   "execution_count": 3,
   "metadata": {},
   "outputs": [
    {
     "name": "stderr",
     "output_type": "stream",
     "text": [
      "Warning : `load_model` does not return WordVectorModel or SupervisedModel any more, but a `FastText` object which is very similar.\n"
     ]
    }
   ],
   "source": [
    "ft = load_fasttext()"
   ]
  },
  {
   "cell_type": "code",
   "execution_count": 8,
   "metadata": {},
   "outputs": [
    {
     "name": "stdout",
     "output_type": "stream",
     "text": [
      "Creating evaluation tokens...\n"
     ]
    },
    {
     "name": "stderr",
     "output_type": "stream",
     "text": [
      "100%|██████████| 50/50 [00:14<00:00,  3.45it/s]\n",
      "100%|██████████| 50/50 [00:00<00:00, 67.04it/s]\n"
     ]
    },
    {
     "name": "stdout",
     "output_type": "stream",
     "text": [
      "Creating training tokens...\n"
     ]
    },
    {
     "name": "stderr",
     "output_type": "stream",
     "text": [
      "100%|██████████| 204/204 [00:59<00:00,  3.40it/s]\n",
      "100%|██████████| 204/204 [00:02<00:00, 72.90it/s]\n"
     ]
    },
    {
     "name": "stdout",
     "output_type": "stream",
     "text": [
      "Precomputing training POS tags...\n"
     ]
    },
    {
     "name": "stderr",
     "output_type": "stream",
     "text": [
      "100%|██████████| 204/204 [00:49<00:00,  4.11it/s]\n"
     ]
    },
    {
     "name": "stdout",
     "output_type": "stream",
     "text": [
      "Precomputing evaluation POS tags...\n"
     ]
    },
    {
     "name": "stderr",
     "output_type": "stream",
     "text": [
      "100%|██████████| 50/50 [00:12<00:00,  3.97it/s]\n"
     ]
    },
    {
     "name": "stdout",
     "output_type": "stream",
     "text": [
      "Loading NLP models...\n",
      "Precomputing training lemmas...\n"
     ]
    },
    {
     "name": "stderr",
     "output_type": "stream",
     "text": [
      "100%|██████████| 204/204 [00:54<00:00,  3.72it/s]\n"
     ]
    },
    {
     "name": "stdout",
     "output_type": "stream",
     "text": [
      "Precomputing evaluation lemmas...\n"
     ]
    },
    {
     "name": "stderr",
     "output_type": "stream",
     "text": [
      "100%|██████████| 50/50 [00:12<00:00,  4.09it/s]\n"
     ]
    }
   ],
   "source": [
    "eval = EvalLSTM(\n",
    "\tsave_dir=os.path.join(ROOT_DIR, \"temp\"),\n",
    "\tresults_dir=os.path.join(ROOT_DIR, \"data\"),\n",
    "\ttrain_data_path=os.path.join(ROOT_DIR, \"data\", \"train_set_data.json\"),\n",
    "\teval_data_path=os.path.join(ROOT_DIR, \"data\", \"val_set_data.json\"),\n",
    "\tfasttext_model=ft,\n",
    "\tlemmatize=False,\n",
    "\tremove_punctuation=True,\n",
    "\treplace_numbers=None,\n",
    "\tverbose=True\n",
    ")"
   ]
  },
  {
   "cell_type": "code",
   "execution_count": 13,
   "metadata": {},
   "outputs": [
    {
     "name": "stdout",
     "output_type": "stream",
     "text": [
      "cuda\n",
      "Instantiating LSTM...\n",
      "Training LSTM...\n",
      "Preparing training set...\n",
      "Training model...\n",
      "Epoch [1/1], Batch [4600/4600], Loss: 0.0154760777950286876\n",
      "Predicting...\n"
     ]
    },
    {
     "name": "stderr",
     "output_type": "stream",
     "text": [
      "100%|██████████| 1105/1105 [00:08<00:00, 131.37it/s]\n"
     ]
    },
    {
     "name": "stdout",
     "output_type": "stream",
     "text": [
      "Calculating metrics...\n",
      "{'precision': 0.9602037195348162, 'recall': 0.9602037195348162, 'f1': 0.9602037195348162, 'time': 8.9967}\n"
     ]
    },
    {
     "data": {
      "image/png": "[encoded data removed]",
      "text/plain": [
       "<Figure size 640x480 with 1 Axes>"
      ]
     },
     "metadata": {},
     "output_type": "display_data"
    }
   ],
   "source": [
    "hyperparams = {\n",
    "\t\"input_dim\": 617,\n",
    "\t\"hidden_dim\": 300,\n",
    "\t\"num_layers\": 2,\n",
    "\t\"output_dim\": 9,\n",
    "\t\"seq_len\": 10,\n",
    "\t\"epochs\": 1,\n",
    "\t\"batch_size\": 32,\n",
    "\t\"learning_rate\": 1e-3,\n",
    "\t\"num_workers\": 12\n",
    "}\n",
    "metrics, losses = eval.evaluate(**hyperparams)\n",
    "print(metrics)\n",
    "plt.plot(losses)\n",
    "plt.xlabel(\"Batch\")\n",
    "plt.ylabel(\"Loss\");"
   ]
  },
  {
   "cell_type": "code",
   "execution_count": 14,
   "metadata": {},
   "outputs": [],
   "source": [
    "eval.model.save()"
   ]
  },
  {
   "cell_type": "markdown",
   "metadata": {},
   "source": [
    "### Hyperparameter analysis"
   ]
  },
  {
   "cell_type": "code",
   "execution_count": 8,
   "metadata": {},
   "outputs": [],
   "source": [
    "eval = EvalLSTM(\n",
    "\tsave_dir=os.path.join(ROOT_DIR, \"temp\"),\n",
    "\tresults_dir=os.path.join(ROOT_DIR, \"data\"),\n",
    "\ttrain_data_path=os.path.join(ROOT_DIR, \"data\", 'train_set_data.json'),\n",
    "\teval_data_path=os.path.join(ROOT_DIR, \"data\", 'val_set_data.json'),\n",
    "\tdevice=device,\n",
    "\tfasttext_model=ft,\n",
    "\tload_existing_train_tokens=True,\n",
    "\tload_existing_eval_tokens=True,\n",
    "\tload_existing_train_pos=True,\n",
    "\tload_existing_eval_pos=True,\n",
    "\tload_existing_train_lemmas=True,\n",
    "\tload_existing_eval_lemmas=True,\n",
    "\tlemmatize=False,\n",
    "\tremove_punctuation=True,\n",
    "\treplace_numbers=None,\n",
    "\tverbose=False\n",
    ")"
   ]
  },
  {
   "cell_type": "code",
   "execution_count": 9,
   "metadata": {},
   "outputs": [],
   "source": [
    "combinations = eval.random_search(\n",
    "\t{\n",
    "\t\t\"input_dim\": [617],\n",
    "\t\t\"hidden_dim\": range(64, 512+64, 64),\n",
    "\t\t\"num_layers\": range(1, 4),\n",
    "\t\t\"output_dim\": [9],\n",
    "\t\t\"seq_len\": range(5, 21, 5),\n",
    "\t\t\"epochs\": [1],\n",
    "\t\t\"batch_size\": [32],\n",
    "\t\t\"learning_rate\": [1e-3],\n",
    "\t\t\"num_workers\": [12]\t\t\n",
    "\t},\n",
    "\tn_iter=10\n",
    ")"
   ]
  },
  {
   "cell_type": "code",
   "execution_count": 13,
   "metadata": {},
   "outputs": [
    {
     "data": {
      "text/plain": [
       "{'metrics': {'precision': 0.9631353129990161,\n",
       "  'recall': 0.9631353129990161,\n",
       "  'f1': 0.9631353129990161,\n",
       "  'time': 14.466},\n",
       " 'hyperparameters': {'input_dim': 617,\n",
       "  'hidden_dim': 448,\n",
       "  'num_layers': 2,\n",
       "  'output_dim': 9,\n",
       "  'seq_len': 15,\n",
       "  'epochs': 1,\n",
       "  'batch_size': 32,\n",
       "  'learning_rate': 0.001,\n",
       "  'num_workers': 12,\n",
       "  'lemmatize': False,\n",
       "  'remove_punctuation': True,\n",
       "  'replace_numbers': None}}"
      ]
     },
     "execution_count": 13,
     "metadata": {},
     "output_type": "execute_result"
    }
   ],
   "source": [
    "combinations[0]"
   ]
  },
  {
   "cell_type": "code",
   "execution_count": 20,
   "metadata": {},
   "outputs": [
    {
     "data": {
      "image/png": "[encoded data removed]",
      "text/plain": [
       "<Figure size 640x480 with 1 Axes>"
      ]
     },
     "metadata": {},
     "output_type": "display_data"
    }
   ],
   "source": [
    "seq_len = [combo[\"hyperparameters\"][\"seq_len\"] for combo in combinations]\n",
    "f1 = [combo[\"metrics\"][\"f1\"] for combo in combinations]\n",
    "# compute f1 average for each seq_len value\n",
    "seq_len2f1 = {seq: [] for seq in seq_len}\n",
    "for i, seq in enumerate(seq_len):\n",
    "\tseq_len2f1[seq].append(f1[i])\n",
    "f1_avg = [sum(seq_len2f1[seq]) / len(seq_len2f1[seq]) for seq in seq_len2f1]\n",
    "seq_len2 = list(seq_len2f1.keys())\n",
    "# sort\n",
    "seq_len2, f1_avg = zip(*sorted(zip(seq_len2, f1_avg)))\n",
    "plt.scatter(seq_len, f1)\n",
    "plt.plot(seq_len2, f1_avg, color=\"red\", alpha=0.3)\n",
    "plt.xlabel(\"Sequence Length\")\n",
    "plt.ylabel(\"F1 Score\")\n",
    "plt.grid(True);"
   ]
  },
  {
   "cell_type": "code",
   "execution_count": 8,
   "metadata": {},
   "outputs": [
    {
     "data": {
      "image/png": "[encoded data removed]",
      "text/plain": [
       "<Figure size 640x480 with 1 Axes>"
      ]
     },
     "metadata": {},
     "output_type": "display_data"
    }
   ],
   "source": [
    "# same with hidden_dim\n",
    "hidden_dim = [combo[\"hyperparameters\"][\"hidden_dim\"] for combo in combinations]\n",
    "f1 = [combo[\"metrics\"][\"f1\"] for combo in combinations]\n",
    "hidden_dim2f1 = {hd: [] for hd in hidden_dim}\n",
    "for i, hd in enumerate(hidden_dim):\n",
    "\thidden_dim2f1[hd].append(f1[i])\n",
    "f1_avg = [sum(hidden_dim2f1[hd]) / len(hidden_dim2f1[hd]) for hd in hidden_dim2f1]\n",
    "hidden_dim2 = list(hidden_dim2f1.keys())\n",
    "hidden_dim2, f1_avg = zip(*sorted(zip(hidden_dim2, f1_avg)))\n",
    "seq_len = [combo[\"hyperparameters\"][\"seq_len\"] for combo in combinations]\n",
    "plt.scatter(hidden_dim, f1)\n",
    "plt.plot(hidden_dim2, f1_avg, color=\"red\", alpha=0.3)\n",
    "for i in range(len(hidden_dim)):\n",
    "    plt.text(hidden_dim[i]+5, f1[i], f'seq_len={seq_len[i]}', fontsize=8)\n",
    "plt.xlabel(\"Hidden Dimension\")\n",
    "plt.ylabel(\"F1 Score\")\n",
    "plt.grid(True);"
   ]
  },
  {
   "cell_type": "markdown",
   "metadata": {},
   "source": [
    "### Ablation studies"
   ]
  },
  {
   "cell_type": "code",
   "execution_count": 1,
   "metadata": {},
   "outputs": [
    {
     "name": "stdout",
     "output_type": "stream",
     "text": [
      "cuda\n"
     ]
    }
   ],
   "source": [
    "import os\n",
    "import matplotlib.pyplot as plt\n",
    "import torch\n",
    "from eval import *\n",
    "from preprocessing import *\n",
    "from lstm import load_fasttext\n",
    "\n",
    "ROOT_DIR = os.path.dirname(os.path.abspath(\"\"))\n",
    "\n",
    "device = torch.device(\"cuda\" if torch.cuda.is_available() else \"cpu\")\n",
    "print(device)"
   ]
  },
  {
   "cell_type": "code",
   "execution_count": 2,
   "metadata": {},
   "outputs": [
    {
     "name": "stderr",
     "output_type": "stream",
     "text": [
      "Warning : `load_model` does not return WordVectorModel or SupervisedModel any more, but a `FastText` object which is very similar.\n"
     ]
    }
   ],
   "source": [
    "ft = load_fasttext()"
   ]
  },
  {
   "cell_type": "markdown",
   "metadata": {},
   "source": [
    "Here we change input sequence split from 5-5 to 6-4 (the change is made somewhere else, not shown here)"
   ]
  },
  {
   "cell_type": "code",
   "execution_count": 18,
   "metadata": {},
   "outputs": [
    {
     "name": "stdout",
     "output_type": "stream",
     "text": [
      "Creating evaluation tokens...\n"
     ]
    },
    {
     "name": "stderr",
     "output_type": "stream",
     "text": [
      "100%|██████████| 50/50 [00:14<00:00,  3.47it/s]\n",
      "100%|██████████| 50/50 [00:00<00:00, 54.90it/s]\n"
     ]
    },
    {
     "name": "stdout",
     "output_type": "stream",
     "text": [
      "Creating training tokens...\n"
     ]
    },
    {
     "name": "stderr",
     "output_type": "stream",
     "text": [
      "100%|██████████| 204/204 [00:59<00:00,  3.43it/s]\n",
      "100%|██████████| 204/204 [00:02<00:00, 70.71it/s]\n"
     ]
    },
    {
     "name": "stdout",
     "output_type": "stream",
     "text": [
      "Precomputing training POS tags...\n"
     ]
    },
    {
     "name": "stderr",
     "output_type": "stream",
     "text": [
      "100%|██████████| 204/204 [00:48<00:00,  4.21it/s]\n"
     ]
    },
    {
     "name": "stdout",
     "output_type": "stream",
     "text": [
      "Precomputing evaluation POS tags...\n"
     ]
    },
    {
     "name": "stderr",
     "output_type": "stream",
     "text": [
      "100%|██████████| 50/50 [00:12<00:00,  3.97it/s]\n"
     ]
    },
    {
     "name": "stdout",
     "output_type": "stream",
     "text": [
      "Loading NLP models...\n",
      "Precomputing training lemmas...\n"
     ]
    },
    {
     "name": "stderr",
     "output_type": "stream",
     "text": [
      "100%|██████████| 204/204 [00:48<00:00,  4.22it/s]\n"
     ]
    },
    {
     "name": "stdout",
     "output_type": "stream",
     "text": [
      "Precomputing evaluation lemmas...\n"
     ]
    },
    {
     "name": "stderr",
     "output_type": "stream",
     "text": [
      "100%|██████████| 50/50 [00:12<00:00,  3.99it/s]\n"
     ]
    }
   ],
   "source": [
    "eval = EvalLSTM(\n",
    "\tsave_dir=os.path.join(ROOT_DIR, \"temp\"),\n",
    "\tresults_dir=os.path.join(ROOT_DIR, \"data\"),\n",
    "\ttrain_data_path=os.path.join(ROOT_DIR, \"data\", 'train_set_data.json'),\n",
    "\teval_data_path=os.path.join(ROOT_DIR, \"data\", 'val_set_data.json'),\n",
    "\tdevice=device,\n",
    "\tfasttext_model=ft,\n",
    "\tlemmatize=False,\n",
    "\tremove_punctuation=True,\n",
    "\treplace_numbers=None,\n",
    "\tverbose=True\n",
    ")"
   ]
  },
  {
   "cell_type": "code",
   "execution_count": 20,
   "metadata": {},
   "outputs": [
    {
     "name": "stdout",
     "output_type": "stream",
     "text": [
      "Instantiating LSTM...\n",
      "Training LSTM...\n",
      "Preparing training set...\n",
      "Training model...\n",
      "Epoch [1/1], Batch [4600/4600], Loss: 0.1459958255290985964\n",
      "Predicting...\n"
     ]
    },
    {
     "name": "stderr",
     "output_type": "stream",
     "text": [
      "100%|██████████| 1105/1105 [00:13<00:00, 83.78it/s]\n"
     ]
    },
    {
     "name": "stdout",
     "output_type": "stream",
     "text": [
      "Calculating metrics...\n"
     ]
    }
   ],
   "source": [
    "# taking previous best hyperparameters\n",
    "hyperparams = {\n",
    "\t\t\"input_dim\": 617,\n",
    "\t\t\"hidden_dim\": 448,\n",
    "\t\t\"num_layers\": 2,\n",
    "\t\t\"output_dim\": 9,\n",
    "\t\t\"seq_len\": 15,\n",
    "\t\t\"epochs\": 1,\n",
    "\t\t\"batch_size\": 32,\n",
    "\t\t\"learning_rate\": 1e-3,\n",
    "\t\t\"num_workers\": 12\n",
    "\t}\n",
    "metrics, losses = eval.evaluate(**hyperparams)"
   ]
  },
  {
   "cell_type": "code",
   "execution_count": 21,
   "metadata": {},
   "outputs": [
    {
     "data": {
      "text/plain": [
       "{'precision': 0.9535663015952385,\n",
       " 'recall': 0.9535663015952385,\n",
       " 'f1': 0.9535663015952385,\n",
       " 'time': 13.4578}"
      ]
     },
     "execution_count": 21,
     "metadata": {},
     "output_type": "execute_result"
    }
   ],
   "source": [
    "metrics"
   ]
  },
  {
   "cell_type": "code",
   "execution_count": 4,
   "metadata": {},
   "outputs": [
    {
     "name": "stdout",
     "output_type": "stream",
     "text": [
      "Loading NLP models...\n",
      "Instantiating LSTM...\n",
      "Training LSTM...\n",
      "Preparing training set...\n",
      "Training model...\n",
      "Epoch [1/1], Batch [4600/4600], Loss: 0.2864117920398712125\n",
      "Predicting...\n"
     ]
    },
    {
     "name": "stderr",
     "output_type": "stream",
     "text": [
      "100%|██████████| 1105/1105 [00:13<00:00, 81.13it/s]\n"
     ]
    },
    {
     "name": "stdout",
     "output_type": "stream",
     "text": [
      "Calculating metrics...\n"
     ]
    },
    {
     "data": {
      "text/plain": [
       "{'precision': 0.960937626014162,\n",
       " 'recall': 0.960937626014162,\n",
       " 'f1': 0.960937626014162,\n",
       " 'time': 13.8608}"
      ]
     },
     "execution_count": 4,
     "metadata": {},
     "output_type": "execute_result"
    }
   ],
   "source": [
    "# Here we change input sequence split from 5-5 to 8-2\n",
    "# (the change is made somewhere else, not shown here)\n",
    "eval = EvalLSTM(\n",
    "\tsave_dir=os.path.join(ROOT_DIR, \"temp\"),\n",
    "\tresults_dir=os.path.join(ROOT_DIR, \"data\"),\n",
    "\ttrain_data_path=os.path.join(ROOT_DIR, \"data\", 'train_set_data.json'),\n",
    "\teval_data_path=os.path.join(ROOT_DIR, \"data\", 'val_set_data.json'),\n",
    "\tdevice=device,\n",
    "\tfasttext_model=ft,\n",
    "\tload_existing_train_tokens=True,\n",
    "\tload_existing_eval_tokens=True,\n",
    "\tload_existing_train_pos=True,\n",
    "\tload_existing_eval_pos=True,\n",
    "\tload_existing_train_lemmas=True,\n",
    "\tload_existing_eval_lemmas=True,\n",
    "\tlemmatize=False,\n",
    "\tremove_punctuation=True,\n",
    "\treplace_numbers=None,\n",
    "\tverbose=True\n",
    ")\n",
    "hyperparams = {\n",
    "\t\t\"input_dim\": 617,\n",
    "\t\t\"hidden_dim\": 448,\n",
    "\t\t\"num_layers\": 2,\n",
    "\t\t\"output_dim\": 9,\n",
    "\t\t\"seq_len\": 15,\n",
    "\t\t\"epochs\": 1,\n",
    "\t\t\"batch_size\": 32,\n",
    "\t\t\"learning_rate\": 1e-3,\n",
    "\t\t\"num_workers\": 12\n",
    "\t}\n",
    "metrics, losses = eval.evaluate(**hyperparams)\n",
    "metrics"
   ]
  },
  {
   "cell_type": "code",
   "execution_count": 5,
   "metadata": {},
   "outputs": [
    {
     "name": "stdout",
     "output_type": "stream",
     "text": [
      "Creating evaluation tokens...\n"
     ]
    },
    {
     "name": "stderr",
     "output_type": "stream",
     "text": [
      "100%|██████████| 50/50 [00:15<00:00,  3.23it/s]\n",
      "100%|██████████| 50/50 [00:00<00:00, 66.63it/s]\n"
     ]
    },
    {
     "name": "stdout",
     "output_type": "stream",
     "text": [
      "Creating training tokens...\n"
     ]
    },
    {
     "name": "stderr",
     "output_type": "stream",
     "text": [
      "100%|██████████| 204/204 [01:25<00:00,  2.40it/s]\n",
      "100%|██████████| 204/204 [00:03<00:00, 52.79it/s]\n"
     ]
    },
    {
     "name": "stdout",
     "output_type": "stream",
     "text": [
      "Precomputing training POS tags...\n"
     ]
    },
    {
     "name": "stderr",
     "output_type": "stream",
     "text": [
      "100%|██████████| 204/204 [01:39<00:00,  2.06it/s]\n"
     ]
    },
    {
     "name": "stdout",
     "output_type": "stream",
     "text": [
      "Precomputing evaluation POS tags...\n"
     ]
    },
    {
     "name": "stderr",
     "output_type": "stream",
     "text": [
      "100%|██████████| 50/50 [00:25<00:00,  1.99it/s]\n"
     ]
    },
    {
     "name": "stdout",
     "output_type": "stream",
     "text": [
      "Loading NLP models...\n",
      "Precomputing training lemmas...\n"
     ]
    },
    {
     "name": "stderr",
     "output_type": "stream",
     "text": [
      "100%|██████████| 204/204 [01:39<00:00,  2.05it/s]\n"
     ]
    },
    {
     "name": "stdout",
     "output_type": "stream",
     "text": [
      "Precomputing evaluation lemmas...\n"
     ]
    },
    {
     "name": "stderr",
     "output_type": "stream",
     "text": [
      "100%|██████████| 50/50 [00:25<00:00,  1.93it/s]\n"
     ]
    },
    {
     "name": "stdout",
     "output_type": "stream",
     "text": [
      "Instantiating LSTM...\n",
      "Training LSTM...\n",
      "Preparing training set...\n",
      "Training model...\n",
      "Epoch [1/1], Batch [5671/5671], Loss: 0.0077759074047207833\n",
      "Predicting...\n"
     ]
    },
    {
     "name": "stderr",
     "output_type": "stream",
     "text": [
      "100%|██████████| 1353/1353 [00:25<00:00, 52.61it/s]\n"
     ]
    },
    {
     "name": "stdout",
     "output_type": "stream",
     "text": [
      "Calculating metrics...\n"
     ]
    },
    {
     "data": {
      "text/plain": [
       "{'precision': 0.9706518057325354,\n",
       " 'recall': 0.9706518057325354,\n",
       " 'f1': 0.9706518057325354,\n",
       " 'time': 26.4395}"
      ]
     },
     "execution_count": 5,
     "metadata": {},
     "output_type": "execute_result"
    }
   ],
   "source": [
    "# Here we try to keep punctuation\n",
    "eval = EvalLSTM(\n",
    "\tsave_dir=os.path.join(ROOT_DIR, \"temp\"),\n",
    "\tresults_dir=os.path.join(ROOT_DIR, \"data\"),\n",
    "\ttrain_data_path=os.path.join(ROOT_DIR, \"data\", 'train_set_data.json'),\n",
    "\teval_data_path=os.path.join(ROOT_DIR, \"data\", 'val_set_data.json'),\n",
    "\tdevice=device,\n",
    "\tfasttext_model=ft,\n",
    "\tlemmatize=False,\n",
    "\tremove_punctuation=False,\n",
    "\treplace_numbers=None,\n",
    "\tverbose=True\n",
    ")\n",
    "hyperparams = {\n",
    "\t\t\"input_dim\": 617,\n",
    "\t\t\"hidden_dim\": 448,\n",
    "\t\t\"num_layers\": 2,\n",
    "\t\t\"output_dim\": 9,\n",
    "\t\t\"seq_len\": 15,\n",
    "\t\t\"epochs\": 1,\n",
    "\t\t\"batch_size\": 32,\n",
    "\t\t\"learning_rate\": 1e-3,\n",
    "\t\t\"num_workers\": 12\n",
    "\t}\n",
    "metrics, losses = eval.evaluate(**hyperparams)\n",
    "metrics"
   ]
  },
  {
   "cell_type": "code",
   "execution_count": 6,
   "metadata": {},
   "outputs": [
    {
     "name": "stdout",
     "output_type": "stream",
     "text": [
      "Creating evaluation tokens...\n"
     ]
    },
    {
     "name": "stderr",
     "output_type": "stream",
     "text": [
      "100%|██████████| 50/50 [00:25<00:00,  1.96it/s]\n",
      "100%|██████████| 50/50 [00:01<00:00, 32.28it/s]\n"
     ]
    },
    {
     "name": "stdout",
     "output_type": "stream",
     "text": [
      "Creating training tokens...\n"
     ]
    },
    {
     "name": "stderr",
     "output_type": "stream",
     "text": [
      "100%|██████████| 204/204 [01:33<00:00,  2.17it/s]\n",
      "100%|██████████| 204/204 [00:04<00:00, 47.92it/s]\n"
     ]
    },
    {
     "name": "stdout",
     "output_type": "stream",
     "text": [
      "Precomputing training POS tags...\n"
     ]
    },
    {
     "name": "stderr",
     "output_type": "stream",
     "text": [
      "100%|██████████| 204/204 [01:35<00:00,  2.13it/s]\n"
     ]
    },
    {
     "name": "stdout",
     "output_type": "stream",
     "text": [
      "Precomputing evaluation POS tags...\n"
     ]
    },
    {
     "name": "stderr",
     "output_type": "stream",
     "text": [
      "100%|██████████| 50/50 [00:25<00:00,  1.95it/s]\n"
     ]
    },
    {
     "name": "stdout",
     "output_type": "stream",
     "text": [
      "Loading NLP models...\n",
      "Precomputing training lemmas...\n"
     ]
    },
    {
     "name": "stderr",
     "output_type": "stream",
     "text": [
      "100%|██████████| 204/204 [01:28<00:00,  2.31it/s]\n"
     ]
    },
    {
     "name": "stdout",
     "output_type": "stream",
     "text": [
      "Precomputing evaluation lemmas...\n"
     ]
    },
    {
     "name": "stderr",
     "output_type": "stream",
     "text": [
      "100%|██████████| 50/50 [00:19<00:00,  2.59it/s]\n"
     ]
    },
    {
     "name": "stdout",
     "output_type": "stream",
     "text": [
      "Instantiating LSTM...\n",
      "Training LSTM...\n",
      "Preparing training set...\n",
      "Training model...\n",
      "Epoch [1/1], Batch [5671/5671], Loss: 0.0695391818881034925\n",
      "Predicting...\n"
     ]
    },
    {
     "name": "stderr",
     "output_type": "stream",
     "text": [
      "100%|██████████| 1353/1353 [00:20<00:00, 64.51it/s]\n"
     ]
    },
    {
     "name": "stdout",
     "output_type": "stream",
     "text": [
      "Calculating metrics...\n"
     ]
    },
    {
     "data": {
      "text/plain": [
       "{'precision': 0.9732406406761618,\n",
       " 'recall': 0.9732406406761618,\n",
       " 'f1': 0.9732406406761618,\n",
       " 'time': 21.6079}"
      ]
     },
     "execution_count": 6,
     "metadata": {},
     "output_type": "execute_result"
    }
   ],
   "source": [
    "# Here we try to keep replace numbers with constant token\n",
    "eval = EvalLSTM(\n",
    "\tsave_dir=os.path.join(ROOT_DIR, \"temp\"),\n",
    "\tresults_dir=os.path.join(ROOT_DIR, \"data\"),\n",
    "\ttrain_data_path=os.path.join(ROOT_DIR, \"data\", 'train_set_data.json'),\n",
    "\teval_data_path=os.path.join(ROOT_DIR, \"data\", 'val_set_data.json'),\n",
    "\tdevice=device,\n",
    "\tfasttext_model=ft,\n",
    "\tlemmatize=False,\n",
    "\tremove_punctuation=False,\n",
    "\treplace_numbers=\"<NUM>\",\n",
    "\tverbose=True\n",
    ")\n",
    "hyperparams = {\n",
    "\t\t\"input_dim\": 617,\n",
    "\t\t\"hidden_dim\": 448,\n",
    "\t\t\"num_layers\": 2,\n",
    "\t\t\"output_dim\": 9,\n",
    "\t\t\"seq_len\": 15,\n",
    "\t\t\"epochs\": 1,\n",
    "\t\t\"batch_size\": 32,\n",
    "\t\t\"learning_rate\": 1e-3,\n",
    "\t\t\"num_workers\": 12\n",
    "\t}\n",
    "metrics, losses = eval.evaluate(**hyperparams)\n",
    "metrics"
   ]
  },
  {
   "cell_type": "code",
   "execution_count": 7,
   "metadata": {},
   "outputs": [],
   "source": [
    "eval.model.save()"
   ]
  },
  {
   "cell_type": "code",
   "execution_count": 3,
   "metadata": {},
   "outputs": [
    {
     "name": "stdout",
     "output_type": "stream",
     "text": [
      "Loading NLP models...\n",
      "Instantiating LSTM...\n",
      "Training LSTM...\n",
      "Preparing training set...\n",
      "Training model...\n",
      "Epoch [1/1], Batch [5671/5671], Loss: 0.0583712495863437655\n",
      "Predicting...\n"
     ]
    },
    {
     "name": "stderr",
     "output_type": "stream",
     "text": [
      "100%|██████████| 1353/1353 [00:20<00:00, 66.68it/s]\n"
     ]
    },
    {
     "name": "stdout",
     "output_type": "stream",
     "text": [
      "Calculating metrics...\n"
     ]
    },
    {
     "data": {
      "text/plain": [
       "{'precision': 0.9746882913689372,\n",
       " 'recall': 0.9746882913689372,\n",
       " 'f1': 0.9746882913689372,\n",
       " 'time': 20.6809}"
      ]
     },
     "execution_count": 3,
     "metadata": {},
     "output_type": "execute_result"
    }
   ],
   "source": [
    "# Here we try to add a dense layer before the lstm\n",
    "eval = EvalLSTM(\n",
    "\tsave_dir=os.path.join(ROOT_DIR, \"temp\"),\n",
    "\tresults_dir=os.path.join(ROOT_DIR, \"data\"),\n",
    "\ttrain_data_path=os.path.join(ROOT_DIR, \"data\", 'train_set_data.json'),\n",
    "\teval_data_path=os.path.join(ROOT_DIR, \"data\", 'val_set_data.json'),\n",
    "\tdevice=device,\n",
    "\tfasttext_model=ft,\n",
    "\tload_existing_train_tokens=True,\n",
    "\tload_existing_eval_tokens=True,\n",
    "\tload_existing_train_pos=True,\n",
    "\tload_existing_eval_pos=True,\n",
    "\tload_existing_train_lemmas=True,\n",
    "\tload_existing_eval_lemmas=True,\n",
    "\tlemmatize=False,\n",
    "\tremove_punctuation=False,\n",
    "\treplace_numbers=\"<NUM>\",\n",
    "\tverbose=True\n",
    ")\n",
    "hyperparams = {\n",
    "\t\t\"input_dim\": 617,\n",
    "\t\t\"hidden_dim\": 448,\n",
    "\t\t\"num_layers\": 2,\n",
    "\t\t\"output_dim\": 9,\n",
    "\t\t\"seq_len\": 15,\n",
    "\t\t\"epochs\": 1,\n",
    "\t\t\"batch_size\": 32,\n",
    "\t\t\"learning_rate\": 1e-3,\n",
    "\t\t\"num_workers\": 12\n",
    "\t}\n",
    "metrics, losses = eval.evaluate(**hyperparams)\n",
    "metrics"
   ]
  },
  {
   "cell_type": "markdown",
   "metadata": {},
   "source": [
    "### Testing"
   ]
  },
  {
   "cell_type": "code",
   "execution_count": null,
   "metadata": {},
   "outputs": [],
   "source": [
    "import os\n",
    "import matplotlib.pyplot as plt\n",
    "import torch\n",
    "from eval import *\n",
    "from preprocessing import *\n",
    "from lstm import load_fasttext\n",
    "\n",
    "ROOT_DIR = os.path.dirname(os.path.abspath(\"\"))\n",
    "\n",
    "device = torch.device(\"cuda\" if torch.cuda.is_available() else \"cpu\")\n",
    "print(device)"
   ]
  },
  {
   "cell_type": "code",
   "execution_count": null,
   "metadata": {},
   "outputs": [],
   "source": [
    "ft = load_fasttext()"
   ]
  },
  {
   "cell_type": "code",
   "execution_count": null,
   "metadata": {},
   "outputs": [],
   "source": [
    "eval = EvalLSTM(\n",
    "\tsave_dir=os.path.join(ROOT_DIR, \"temp\"),\n",
    "\tresults_dir=os.path.join(ROOT_DIR, \"data\"),\n",
    "\ttrain_data_path=os.path.join(ROOT_DIR, \"data\", 'training_data.json'),\n",
    "\teval_data_path=os.path.join(ROOT_DIR, \"data\", 'test_data.json'),\n",
    "\tdevice=device,\n",
    "\tfasttext_model=ft,\n",
    "\tlemmatize=False,\n",
    "\tremove_punctuation=False,\n",
    "\treplace_numbers=\"<NUM>\",\n",
    "\tverbose=False\n",
    ")\n",
    "hyperparams = {\n",
    "\t\t\"input_dim\": 617,\n",
    "\t\t\"hidden_dim\": 448,\n",
    "\t\t\"num_layers\": 2,\n",
    "\t\t\"output_dim\": 9,\n",
    "\t\t\"seq_len\": 15,\n",
    "\t\t\"epochs\": 1,\n",
    "\t\t\"batch_size\": 32,\n",
    "\t\t\"learning_rate\": 1e-3,\n",
    "\t\t\"num_workers\": 12\n",
    "\t}\n",
    "cv_results = eval.cross_validation(5, **hyperparams)"
   ]
  },
  {
   "cell_type": "code",
   "execution_count": 5,
   "metadata": {},
   "outputs": [
    {
     "name": "stdout",
     "output_type": "stream",
     "text": [
      "F1 score: 0.9764603924620168\n",
      "Inference time: 21.3872 s\n"
     ]
    }
   ],
   "source": [
    "print(\"F1 score:\", cv_results[\"avg_f1\"])\n",
    "print(\"Inference time:\", cv_results[\"avg_time\"], \"s\")"
   ]
  },
  {
   "cell_type": "code",
   "execution_count": 4,
   "metadata": {},
   "outputs": [
    {
     "name": "stdout",
     "output_type": "stream",
     "text": [
      "Creating evaluation tokens...\n"
     ]
    },
    {
     "name": "stderr",
     "output_type": "stream",
     "text": [
      "100%|██████████| 64/64 [00:20<00:00,  3.15it/s]\n",
      "100%|██████████| 64/64 [00:00<00:00, 68.59it/s]\n"
     ]
    },
    {
     "name": "stdout",
     "output_type": "stream",
     "text": [
      "Creating training tokens...\n"
     ]
    },
    {
     "name": "stderr",
     "output_type": "stream",
     "text": [
      "100%|██████████| 254/254 [01:17<00:00,  3.29it/s]\n",
      "100%|██████████| 254/254 [00:03<00:00, 69.69it/s]\n"
     ]
    },
    {
     "name": "stdout",
     "output_type": "stream",
     "text": [
      "Precomputing training POS tags...\n"
     ]
    },
    {
     "name": "stderr",
     "output_type": "stream",
     "text": [
      "100%|██████████| 254/254 [01:10<00:00,  3.59it/s]\n"
     ]
    },
    {
     "name": "stdout",
     "output_type": "stream",
     "text": [
      "Precomputing evaluation POS tags...\n"
     ]
    },
    {
     "name": "stderr",
     "output_type": "stream",
     "text": [
      "100%|██████████| 64/64 [00:23<00:00,  2.68it/s]\n"
     ]
    },
    {
     "name": "stdout",
     "output_type": "stream",
     "text": [
      "Loading NLP models...\n",
      "Precomputing training lemmas...\n"
     ]
    },
    {
     "name": "stderr",
     "output_type": "stream",
     "text": [
      "100%|██████████| 254/254 [01:07<00:00,  3.77it/s]\n"
     ]
    },
    {
     "name": "stdout",
     "output_type": "stream",
     "text": [
      "Precomputing evaluation lemmas...\n"
     ]
    },
    {
     "name": "stderr",
     "output_type": "stream",
     "text": [
      "100%|██████████| 64/64 [00:19<00:00,  3.30it/s]\n"
     ]
    },
    {
     "name": "stdout",
     "output_type": "stream",
     "text": [
      "Instantiating LSTM...\n",
      "Training LSTM...\n",
      "Preparing training set...\n",
      "Training model...\n",
      "Epoch [1/1], Batch [7024/7024], Loss: 0.0056213722564280035\n",
      "Predicting...\n"
     ]
    },
    {
     "name": "stderr",
     "output_type": "stream",
     "text": [
      "100%|██████████| 1832/1832 [00:21<00:00, 85.30it/s]\n"
     ]
    },
    {
     "name": "stdout",
     "output_type": "stream",
     "text": [
      "Calculating metrics...\n"
     ]
    },
    {
     "data": {
      "text/plain": [
       "{'precision': 0.9773902848690464,\n",
       " 'recall': 0.9773902848690464,\n",
       " 'f1': 0.9773902848690464,\n",
       " 'time': 22.0918}"
      ]
     },
     "execution_count": 4,
     "metadata": {},
     "output_type": "execute_result"
    }
   ],
   "source": [
    "eval = EvalLSTM(\n",
    "\tsave_dir=os.path.join(ROOT_DIR, \"temp\"),\n",
    "\tresults_dir=os.path.join(ROOT_DIR, \"data\"),\n",
    "\ttrain_data_path=os.path.join(ROOT_DIR, \"data\", 'training_data.json'),\n",
    "\teval_data_path=os.path.join(ROOT_DIR, \"data\", 'test_data.json'),\n",
    "\tdevice=device,\n",
    "\tfasttext_model=ft,\n",
    "\tlemmatize=False,\n",
    "\tremove_punctuation=False,\n",
    "\treplace_numbers=\"<NUM>\",\n",
    "\tverbose=True\n",
    ")\n",
    "metrics, losses = eval.evaluate(**hyperparams)\n",
    "metrics"
   ]
  }
 ],
 "metadata": {
  "kernelspec": {
   "display_name": "nlp",
   "language": "python",
   "name": "python3"
  },
  "language_info": {
   "codemirror_mode": {
    "name": "ipython",
    "version": 3
   },
   "file_extension": ".py",
   "mimetype": "text/x-python",
   "name": "python",
   "nbconvert_exporter": "python",
   "pygments_lexer": "ipython3",
   "version": "3.11.8"
  }
 },
 "nbformat": 4,
 "nbformat_minor": 2
}
