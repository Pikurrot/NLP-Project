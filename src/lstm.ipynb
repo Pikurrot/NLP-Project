{
 "cells": [
  {
   "cell_type": "code",
   "execution_count": 1,
   "metadata": {},
   "outputs": [],
   "source": [
    "import os\n",
    "import matplotlib.pyplot as plt\n",
    "from preprocessing import *\n",
    "# %pip install fasttext-wheel\n",
    "from lstm import *\n",
    "from crf import create_bio_tags\n",
    "\n",
    "ROOT_DIR = os.path.dirname(os.path.abspath(\"\"))"
   ]
  },
  {
   "cell_type": "code",
   "execution_count": 2,
   "metadata": {},
   "outputs": [
    {
     "name": "stdout",
     "output_type": "stream",
     "text": [
      "cuda\n"
     ]
    }
   ],
   "source": [
    "device = torch.device(\"cuda\" if torch.cuda.is_available() else \"cpu\")\n",
    "print(device)"
   ]
  },
  {
   "cell_type": "code",
   "execution_count": 3,
   "metadata": {},
   "outputs": [
    {
     "name": "stderr",
     "output_type": "stream",
     "text": [
      "Warning : `load_model` does not return WordVectorModel or SupervisedModel any more, but a `FastText` object which is very similar.\n"
     ]
    }
   ],
   "source": [
    "ft = load_fasttext()"
   ]
  },
  {
   "cell_type": "code",
   "execution_count": 41,
   "metadata": {},
   "outputs": [],
   "source": [
    "model = LSTM(\n",
    "\tmodel_path=os.path.join(ROOT_DIR, \"models\", \"lstm_0_1.pt\"),\n",
    "\tdevice=device,\n",
    "\thyperparams={\n",
    "\t\t\"input_dim\": 617,\n",
    "\t\t\"hidden_dim\": 300,\n",
    "\t\t\"num_layers\": 2,\n",
    "\t\t\"output_dim\": 9,\n",
    "\t\t\"seq_len\": 10,\n",
    "\t\t\"epochs\": 1,\n",
    "\t\t\"batch_size\": 32,\n",
    "\t\t\"learning_rate\": 1e-3,\n",
    "\t\t\"num_workers\": 12,\n",
    "\t\t\"dataset_type\": \"overlapping\",\n",
    "\t},\n",
    "\tft=ft,\n",
    "\tverbose=True,\n",
    ")"
   ]
  },
  {
   "cell_type": "code",
   "execution_count": 42,
   "metadata": {},
   "outputs": [
    {
     "name": "stdout",
     "output_type": "stream",
     "text": [
      "Preparing training set...\n",
      "Training model...\n",
      "Epoch [1/1], Batch [5705/5705], Loss: 0.0005954817170277238\n"
     ]
    },
    {
     "data": {
      "text/plain": [
       "[<matplotlib.lines.Line2D at 0x7379427db510>]"
      ]
     },
     "execution_count": 42,
     "metadata": {},
     "output_type": "execute_result"
    },
    {
     "data": {
      "image/png": "[encoded data removed]",
      "text/plain": [
       "<Figure size 640x480 with 1 Axes>"
      ]
     },
     "metadata": {},
     "output_type": "display_data"
    }
   ],
   "source": [
    "losses = model.train(\n",
    "\ttrain_tokens_path=os.path.join(ROOT_DIR, \"data\", \"training_data_tokens.json\"),\n",
    "\ttrain_lemmas_path=os.path.join(ROOT_DIR, \"data\", \"training_data_lemmas.json\"),\n",
    "\ttrain_pos_path=os.path.join(ROOT_DIR, \"data\", \"training_data_pos.json\"),\n",
    "\ttrain_labels_path=os.path.join(ROOT_DIR, \"data\", \"training_data_bio.json\"),\n",
    "\tfrac=1.0\n",
    ")\n",
    "plt.plot(losses)"
   ]
  },
  {
   "cell_type": "code",
   "execution_count": 43,
   "metadata": {},
   "outputs": [],
   "source": [
    "model.save()"
   ]
  },
  {
   "cell_type": "code",
   "execution_count": 50,
   "metadata": {},
   "outputs": [
    {
     "name": "stdout",
     "output_type": "stream",
     "text": [
      "Preparing test set...\n"
     ]
    },
    {
     "name": "stderr",
     "output_type": "stream",
     "text": [
      "100%|██████████| 1479/1479 [00:09<00:00, 153.03it/s]"
     ]
    },
    {
     "name": "stdout",
     "output_type": "stream",
     "text": [
      "Test Loss: 0.1205, Test Accuracy: 0.9697\n"
     ]
    },
    {
     "name": "stderr",
     "output_type": "stream",
     "text": [
      "\n"
     ]
    }
   ],
   "source": [
    "loss, accuracy = model.evaluate(\n",
    "\ttest_tokens_path=os.path.join(ROOT_DIR, \"data\", \"test_data_tokens.json\"),\n",
    "\ttest_lemmas_path=os.path.join(ROOT_DIR, \"data\", \"test_data_lemmas.json\"),\n",
    "\ttest_pos_path=os.path.join(ROOT_DIR, \"data\", \"test_data_pos.json\"),\n",
    "\ttest_labels_path=os.path.join(ROOT_DIR, \"data\", \"test_data_bio.json\"),\n",
    "\tfrac=1.0\n",
    ")"
   ]
  },
  {
   "cell_type": "code",
   "execution_count": 51,
   "metadata": {},
   "outputs": [],
   "source": [
    "pred = model.predict(\n",
    "\t[\"vejiga\", \"de\", \"correcta\", \"capacidad\", \"250\", \"cc\", \"de\", \"contraste\", \"de\", \"paredes\", \"trabeculadas\", \"y\", \"con\", \"diverticulos\", \"el\", \"mayor\", \"de\", \"ellos\", \"en\", \"cara\", \"posterolateral\", \"izquierda\", \"sin\", \"observarse\", \"defectos\", \"de\", \"replecion\"],\n",
    "\t[\"vejiga\", \"de\", \"correcto\", \"capacidad\", \"250\", \"cc\", \"de\", \"contraste\", \"de\", \"pared\", \"trabeculada\", \"y\", \"con\", \"diverticulo\", \"el\", \"mayor\", \"de\", \"\\u00e9l\", \"en\", \"cara\", \"posterolateral\", \"izquierdo\", \"sin\", \"observar \\u00e9l\", \"defecto\", \"de\", \"replecion\"],\n",
    "\t[\"NOUN\", \"ADP\", \"ADJ\", \"NOUN\", \"NUM\", \"NUM\", \"ADP\", \"NOUN\", \"ADP\", \"NOUN\", \"ADJ\", \"CCONJ\", \"ADP\", \"NOUN\", \"DET\", \"ADJ\", \"ADP\", \"PRON\", \"ADP\", \"NOUN\", \"ADJ\", \"ADJ\", \"ADP\", \"VERB\", \"PRON\", \"NOUN\", \"ADP\", \"PROPN\"],\n",
    ")"
   ]
  },
  {
   "cell_type": "markdown",
   "metadata": {},
   "source": [
    "---"
   ]
  },
  {
   "cell_type": "code",
   "execution_count": 40,
   "metadata": {},
   "outputs": [],
   "source": [
    "train_data_tokens = load_tokens(os.path.join(ROOT_DIR, \"data\", \"training_data_tokens.json\"))\n",
    "with open(os.path.join(ROOT_DIR, \"data\", \"training_data.json\"), \"r\") as f:\n",
    "\ttrain_data = json.load(f)\n",
    "train_data_bio = create_bio_tags(train_data, train_data_tokens)\n",
    "with open(os.path.join(ROOT_DIR, \"data\", \"training_data_bio.json\"), \"w\") as f:\n",
    "\tjson.dump(train_data_bio, f)"
   ]
  },
  {
   "cell_type": "code",
   "execution_count": 11,
   "metadata": {},
   "outputs": [],
   "source": [
    "with open(os.path.join(ROOT_DIR, \"data\", \"training_data_lemmas.json\"), \"r\") as f:\n",
    "\ttrain_data_lemmas = json.load(f)\n",
    "with open(os.path.join(ROOT_DIR, \"data\", \"training_data_pos.json\"), \"r\") as f:\n",
    "\ttrain_data_pos = json.load(f)"
   ]
  },
  {
   "cell_type": "code",
   "execution_count": 34,
   "metadata": {},
   "outputs": [],
   "source": [
    "training_set = OverlappingWindowDataset(\n",
    "\ttrain_data_tokens,\n",
    "\ttrain_data_lemmas,\n",
    "\ttrain_data_pos,\n",
    "\ttrain_data_bio,\n",
    "\tft,\n",
    "\tseq_len=10,\n",
    "\tpadding_value=0)"
   ]
  },
  {
   "cell_type": "code",
   "execution_count": 35,
   "metadata": {},
   "outputs": [],
   "source": [
    "train_loader = DataLoader(training_set, batch_size=32, shuffle=True, num_workers=12)"
   ]
  },
  {
   "cell_type": "code",
   "execution_count": 36,
   "metadata": {},
   "outputs": [
    {
     "data": {
      "text/plain": [
       "NegationDetectionModel(\n",
       "  (bilstm): LSTM(617, 300, num_layers=2, batch_first=True, bidirectional=True)\n",
       "  (fc): Linear(in_features=600, out_features=9, bias=True)\n",
       ")"
      ]
     },
     "execution_count": 36,
     "metadata": {},
     "output_type": "execute_result"
    }
   ],
   "source": [
    "# Hyperparameters\n",
    "word_embedding_dim = 617 # 300 word, 300 lemma, 17 pos\n",
    "hidden_dim = 300\n",
    "num_classes = 9\n",
    "num_layers=2\n",
    "# Instantiate the model\n",
    "model = NegationDetectionModel(word_embedding_dim, hidden_dim, num_layers, num_classes)\n",
    "model.to(device)"
   ]
  },
  {
   "cell_type": "code",
   "execution_count": 37,
   "metadata": {},
   "outputs": [
    {
     "data": {
      "text/plain": [
       "4375809"
      ]
     },
     "execution_count": 37,
     "metadata": {},
     "output_type": "execute_result"
    }
   ],
   "source": [
    "def count_parameters(model):\n",
    "\treturn sum(p.numel() for p in model.parameters() if p.requires_grad)\n",
    "count_parameters(model)"
   ]
  },
  {
   "cell_type": "code",
   "execution_count": 17,
   "metadata": {},
   "outputs": [],
   "source": [
    "# Training function\n",
    "def train(model, dataloader, criterion, optimizer, device, epochs=10):\n",
    "\tlosses = []\n",
    "\tfor epoch in range(epochs):\n",
    "\t\tfor sequences, targets in tqdm(dataloader):\n",
    "\t\t\t# Forward pass\n",
    "\t\t\tsequences = sequences.to(device)\n",
    "\t\t\ttargets = targets.to(device)\n",
    "\n",
    "\t\t\toutputs = model(sequences)\n",
    "\t\t\toutputs = outputs.view(-1, outputs.shape[-1])\n",
    "\t\t\ttargets = targets.view(-1).long()\n",
    "\t\t\t# Compute loss\n",
    "\t\t\tloss = criterion(outputs, targets)\n",
    "\t\t\t\n",
    "\t\t\t# Backward pass and optimization\n",
    "\t\t\toptimizer.zero_grad()\n",
    "\t\t\tloss.backward()\n",
    "\t\t\toptimizer.step()\n",
    "\t\t\tlosses.append(loss.item())\n",
    "\t\t\t\n",
    "\t\tprint(f'Epoch {epoch+1}, Loss: {loss.item()}')\n",
    "\treturn losses"
   ]
  },
  {
   "cell_type": "code",
   "execution_count": 38,
   "metadata": {},
   "outputs": [
    {
     "name": "stderr",
     "output_type": "stream",
     "text": [
      "100%|██████████| 5705/5705 [01:18<00:00, 72.99it/s]"
     ]
    },
    {
     "name": "stdout",
     "output_type": "stream",
     "text": [
      "Epoch 1, Loss: 0.0014026316348463297\n"
     ]
    },
    {
     "name": "stderr",
     "output_type": "stream",
     "text": [
      "\n"
     ]
    },
    {
     "data": {
      "text/plain": [
       "[<matplotlib.lines.Line2D at 0x737a7d1ad9d0>]"
      ]
     },
     "execution_count": 38,
     "metadata": {},
     "output_type": "execute_result"
    },
    {
     "data": {
      "image/png": "[encoded data removed]",
      "text/plain": [
       "<Figure size 640x480 with 1 Axes>"
      ]
     },
     "metadata": {},
     "output_type": "display_data"
    }
   ],
   "source": [
    "from torch import nn, optim\n",
    "\n",
    "# Define loss and optimizer\n",
    "criterion = nn.CrossEntropyLoss()\n",
    "optimizer = optim.Adam(model.parameters(), lr=0.001)\n",
    "\n",
    "losses = train(model, train_loader, criterion, optimizer, device, epochs=1)\n",
    "plt.plot(losses)"
   ]
  },
  {
   "cell_type": "code",
   "execution_count": 39,
   "metadata": {},
   "outputs": [
    {
     "name": "stderr",
     "output_type": "stream",
     "text": [
      "100%|██████████| 5705/5705 [00:36<00:00, 154.98it/s]"
     ]
    },
    {
     "name": "stdout",
     "output_type": "stream",
     "text": [
      "Test Loss: 0.0539, Test Accuracy: 0.9837\n"
     ]
    },
    {
     "name": "stderr",
     "output_type": "stream",
     "text": [
      "\n"
     ]
    },
    {
     "data": {
      "text/plain": [
       "(0.053875244882751146, 0.9836940979241655)"
      ]
     },
     "execution_count": 39,
     "metadata": {},
     "output_type": "execute_result"
    }
   ],
   "source": [
    "# Test the model\n",
    "def test(model, dataloader, criterion, device):\n",
    "    model.eval()\n",
    "    total_loss = 0\n",
    "    correct = 0\n",
    "    total = 0\n",
    "    \n",
    "    with torch.no_grad():\n",
    "        for sequences, targets in tqdm(dataloader):\n",
    "            # Forward pass\n",
    "            sequences = sequences.to(device)\n",
    "            targets = targets.to(device)\n",
    "            \n",
    "            outputs = model(sequences)\n",
    "            outputs = outputs.view(-1, outputs.shape[-1])\n",
    "            targets = targets.view(-1).long()\n",
    "            \n",
    "            # Compute loss\n",
    "            loss = criterion(outputs, targets)\n",
    "            total_loss += loss.item()\n",
    "            \n",
    "            # Compute accuracy\n",
    "            _, predicted = torch.max(outputs, 1)\n",
    "            correct += (predicted == targets).sum().item()\n",
    "            total += targets.size(0)\n",
    "    \n",
    "    average_loss = total_loss / len(dataloader)\n",
    "    accuracy = correct / total\n",
    "    \n",
    "    print(f'Test Loss: {average_loss:.4f}, Test Accuracy: {accuracy:.4f}')\n",
    "    \n",
    "    return average_loss, accuracy\n",
    "\n",
    "test(model, train_loader, criterion, device)"
   ]
  }
 ],
 "metadata": {
  "kernelspec": {
   "display_name": "nlp",
   "language": "python",
   "name": "python3"
  },
  "language_info": {
   "codemirror_mode": {
    "name": "ipython",
    "version": 3
   },
   "file_extension": ".py",
   "mimetype": "text/x-python",
   "name": "python",
   "nbconvert_exporter": "python",
   "pygments_lexer": "ipython3",
   "version": "3.11.8"
  }
 },
 "nbformat": 4,
 "nbformat_minor": 2
}
