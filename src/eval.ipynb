{
 "cells": [
  {
   "cell_type": "code",
   "execution_count": 6,
   "metadata": {},
   "outputs": [
    {
     "name": "stdout",
     "output_type": "stream",
     "text": [
      "['p', 'a', 'r', 'a', ' ', 'l', 'a', ' ', 'e', 'd', 'a', 'd', ' ', 'g', 'e', 's', 't', 'a', 'c', 'i', 'o', 'n', 'a', 'l', ' ', '(', ' ', 'p', 'e', 'g', ' ', ')', ' ', 'a', 'n', 't', 'e', 'c', 'e', 'd', 'e', 'n', 't', 's', ' ', 'NEG', 'NEG', ' ', 'NSCO', 'NSCO', 'NSCO', 'NSCO', 'NSCO', 'NSCO', 'NSCO', 'NSCO', 'NSCO', 'NSCO', 'NSCO', 'NSCO', 'NSCO', 'NSCO', 'NSCO', 'NSCO', 'NSCO', 'NSCO', 'NSCO', 'NSCO', 'NSCO', 'NSCO', 'NSCO', ' ', 'c', 'o', 'n', 'o', 'c', 'i', 'd', 'a', 's', ' ', 'a', 'n', 't', 'c', 'e', 'd', 'e', 'd', 'e', 'n', 't', 'e', 's', ' ', 'm', 'e', 'd', 'i', 'c', 'o', '-', 'q', 'u', 'i', 'r', 'u', 'r', 'g', 'i', 'c', 'o', 's', ':', ' ', 'p', 'r', 'o', 't', 'e', 's', 'i', 's', ' ', 'm', 'a', 'm', 'a', 'r', 'i', 'a', ',', ' ', 'a', 'd', 'e', 'n', 'o', 'i', 'd', 'e', 'c', 't', 'o', 'm', 'i', 'a', ' ', 'NEG']\n",
      "Precision: 1.0, Recall:1.0, F1:1.0\n"
     ]
    }
   ],
   "source": [
    "import json\n",
    "import random\n",
    "import numpy as np\n",
    "import nltk\n",
    "from sklearn.metrics import precision_score, recall_score, f1_score\n",
    "\n",
    "\n",
    "class EvalOfficial:\n",
    "    def __init__(self):\n",
    "        pass\n",
    "    \n",
    "    def process(self, data):\n",
    "        final_chars = []\n",
    "        for i in range(len(data)):\n",
    "            text = data[i]['data']['text']\n",
    "            chars = list(text)\n",
    "            for value in data[i]['predictions'][0]['result']:\n",
    "                index = (value['value']['start'], value['value']['end'])\n",
    "                label = value['value']['labels'][0]\n",
    "                for j in range(index[0], index[1]-1):\n",
    "                    chars[j] = label\n",
    "            final_chars.extend(chars)\n",
    "        return final_chars\n",
    "\n",
    "    def calc(self, pred, groundtruth):\n",
    "        pred = self.process(pred)\n",
    "        print(pred[350:500])\n",
    "        gt = self.process(groundtruth)\n",
    "        precision = precision_score(gt, pred, average='micro')\n",
    "        recall = recall_score(gt, pred, average='micro')\n",
    "        f1 = f1_score(gt, pred, average='micro')\n",
    "        return precision, recall, f1\n",
    "\n",
    "        \n",
    "with open('../data/negacio_test_v2024.json', 'r', encoding='utf8') as _f:\n",
    "    test_data = json.load(_f)\n",
    "metric = EvalOfficial()\n",
    "p, r, f1 = metric.calc(test_data, test_data)\n",
    "print(f'Precision: {p}, Recall:{r}, F1:{f1}')\n"
   ]
  }
 ],
 "metadata": {
  "kernelspec": {
   "display_name": "base",
   "language": "python",
   "name": "python3"
  },
  "language_info": {
   "codemirror_mode": {
    "name": "ipython",
    "version": 3
   },
   "file_extension": ".py",
   "mimetype": "text/x-python",
   "name": "python",
   "nbconvert_exporter": "python",
   "pygments_lexer": "ipython3",
   "version": "3.11.4"
  }
 },
 "nbformat": 4,
 "nbformat_minor": 2
}
