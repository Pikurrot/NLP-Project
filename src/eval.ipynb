{
 "cells": [
  {
   "cell_type": "code",
   "execution_count": 6,
   "metadata": {},
   "outputs": [
    {
     "name": "stdout",
     "output_type": "stream",
     "text": [
      "Training:\n",
      "Precision: 0.8047506361064896, Recall:0.8047506361064896, F1:0.8047506361064896\n",
      "Testing:\n",
      "Precision: 0.8211420882702232, Recall:0.8211420882702232, F1:0.8211420882702232\n"
     ]
    }
   ],
   "source": [
    "import json\n",
    "import random\n",
    "import numpy as np\n",
    "import nltk\n",
    "from sklearn.metrics import precision_score, recall_score, f1_score\n",
    "\n",
    "\n",
    "class EvalOfficial:\n",
    "    def __init__(self):\n",
    "        pass\n",
    "    \n",
    "    def process(self, data):\n",
    "        final_chars = []\n",
    "        for i in range(len(data)):\n",
    "            text = data[i]['data']['text']\n",
    "            chars = list(text)\n",
    "            for value in data[i]['predictions'][0]['result']:\n",
    "                index = (value['value']['start'], value['value']['end'])\n",
    "                label = value['value']['labels'][0]\n",
    "                for j in range(index[0], index[1]-1):\n",
    "                    chars[j] = label\n",
    "            final_chars.extend(chars)\n",
    "        return final_chars\n",
    "\n",
    "    def calc(self, pred, groundtruth):\n",
    "        pred = self.process(pred)\n",
    "        gt = self.process(groundtruth)\n",
    "        precision = precision_score(gt, pred, average='micro')\n",
    "        recall = recall_score(gt, pred, average='micro')\n",
    "        f1 = f1_score(gt, pred, average='micro')\n",
    "        return precision, recall, f1\n",
    "\n",
    "        \n",
    "with open('../data/training_data.json', 'r', encoding='utf8') as _f:\n",
    "    test_data = json.load(_f)\n",
    "\n",
    "with open('../data/output_blind_negex_training.json', 'r', encoding='utf8') as _f2:\n",
    "    pred_data = json.load(_f2)\n",
    "\n",
    "metric = EvalOfficial()\n",
    "p, r, f1 = metric.calc(pred_data, test_data)\n",
    "print(\"Training:\")\n",
    "print(f'Precision: {p}, Recall:{r}, F1:{f1}')\n",
    "\n",
    "with open('../data/test_data.json', 'r', encoding='utf8') as _f:\n",
    "    test_data = json.load(_f)\n",
    "\n",
    "with open('../data/output_blind_negex_testing.json', 'r', encoding='utf8') as _f2:\n",
    "    pred_data = json.load(_f2)\n",
    "\n",
    "metric = EvalOfficial()\n",
    "p, r, f1 = metric.calc(pred_data, test_data)\n",
    "print(\"Testing:\")\n",
    "print(f'Precision: {p}, Recall:{r}, F1:{f1}')\n"
   ]
  }
 ],
 "metadata": {
  "kernelspec": {
   "display_name": "base",
   "language": "python",
   "name": "python3"
  },
  "language_info": {
   "codemirror_mode": {
    "name": "ipython",
    "version": 3
   },
   "file_extension": ".py",
   "mimetype": "text/x-python",
   "name": "python",
   "nbconvert_exporter": "python",
   "pygments_lexer": "ipython3",
   "version": "3.11.4"
  }
 },
 "nbformat": 4,
 "nbformat_minor": 2
}
