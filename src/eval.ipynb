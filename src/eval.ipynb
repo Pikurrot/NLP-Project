{
 "cells": [
  {
   "cell_type": "code",
   "execution_count": 1,
   "metadata": {},
   "outputs": [
    {
     "name": "stdout",
     "output_type": "stream",
     "text": [
      "Training:\n",
      "Precision: 0.8047506361064896, Recall:0.8047506361064896, F1:0.8047506361064896\n",
      "Testing:\n",
      "Precision: 0.8211420882702232, Recall:0.8211420882702232, F1:0.8211420882702232\n"
     ]
    }
   ],
   "source": [
    "import json\n",
    "import eval\n",
    "        \n",
    "with open('../data/training_data.json', 'r', encoding='utf8') as _f:\n",
    "    test_data = json.load(_f)\n",
    "\n",
    "with open('../data/output_blind_negex_training.json', 'r', encoding='utf8') as _f2:\n",
    "    pred_data = json.load(_f2)\n",
    "\n",
    "metric = eval.EvalOfficial()\n",
    "p, r, f1 = metric.calc(pred_data, test_data)\n",
    "print(\"Training:\")\n",
    "print(f'Precision: {p}, Recall:{r}, F1:{f1}')\n",
    "\n",
    "with open('../data/test_data.json', 'r', encoding='utf8') as _f:\n",
    "    test_data = json.load(_f)\n",
    "\n",
    "with open('../data/output_blind_negex_testing.json', 'r', encoding='utf8') as _f2:\n",
    "    pred_data = json.load(_f2)\n",
    "\n",
    "metric = eval.EvalOfficial()\n",
    "p, r, f1 = metric.calc(pred_data, test_data)\n",
    "print(\"Testing:\")\n",
    "print(f'Precision: {p}, Recall:{r}, F1:{f1}')\n"
   ]
  }
 ],
 "metadata": {
  "kernelspec": {
   "display_name": "base",
   "language": "python",
   "name": "python3"
  },
  "language_info": {
   "codemirror_mode": {
    "name": "ipython",
    "version": 3
   },
   "file_extension": ".py",
   "mimetype": "text/x-python",
   "name": "python",
   "nbconvert_exporter": "python",
   "pygments_lexer": "ipython3",
   "version": "3.11.8"
  }
 },
 "nbformat": 4,
 "nbformat_minor": 2
}
