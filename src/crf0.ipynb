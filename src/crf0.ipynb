{
 "cells": [
  {
   "cell_type": "code",
   "execution_count": 1,
   "metadata": {},
   "outputs": [],
   "source": [
    "from crf0 import *"
   ]
  },
  {
   "cell_type": "code",
   "execution_count": 2,
   "metadata": {},
   "outputs": [
    {
     "data": {
      "text/plain": [
       "['ner', 'parser']"
      ]
     },
     "execution_count": 2,
     "metadata": {},
     "output_type": "execute_result"
    }
   ],
   "source": [
    "# Load the Spanish language model\n",
    "nlp = spacy.load(\"es_core_news_sm\")\n",
    "nlp.disable_pipes('ner', 'parser')"
   ]
  },
  {
   "cell_type": "code",
   "execution_count": 3,
   "metadata": {},
   "outputs": [],
   "source": [
    "# Load training data and process\n",
    "ROOT_DIR = os.path.dirname(os.path.abspath(\"\"))\n",
    "data_training = json.load(open(os.path.join(ROOT_DIR, \"data\", \"training_data.json\")))\n",
    "data_testing = json.load(open(os.path.join(ROOT_DIR, \"data\", \"test_data.json\")))"
   ]
  },
  {
   "cell_type": "code",
   "execution_count": 4,
   "metadata": {},
   "outputs": [],
   "source": [
    "# Training data\n",
    "sentences_train, sentences_chars_train = process_text(data_training)\n",
    "\n",
    "X_training=from_sentences_to_tokenfeatures(sentences_train, nlp)\n",
    "Y_training=from_sentences_to_BIO_tagging(sentences_train, sentences_chars_train, nlp)"
   ]
  },
  {
   "cell_type": "code",
   "execution_count": 5,
   "metadata": {},
   "outputs": [],
   "source": [
    "# Testing data\n",
    "sentences_test, sentences_chars_test = process_text(data_testing)\n",
    "\n",
    "X_testing=from_sentences_to_tokenfeatures(sentences_test, nlp)\n",
    "Y_testing=from_sentences_to_BIO_tagging(sentences_test, sentences_chars_test, nlp)"
   ]
  },
  {
   "cell_type": "code",
   "execution_count": 6,
   "metadata": {},
   "outputs": [],
   "source": [
    "# Prepare training data\n",
    "X_train, y_train = prepare_data(X_training, Y_training)"
   ]
  },
  {
   "cell_type": "code",
   "execution_count": 7,
   "metadata": {},
   "outputs": [],
   "source": [
    "# Prepare training data\n",
    "X_test, y_test = prepare_data(X_testing, Y_testing)"
   ]
  },
  {
   "cell_type": "code",
   "execution_count": 8,
   "metadata": {},
   "outputs": [
    {
     "data": {
      "text/plain": [
       "<contextlib.closing at 0x1611d065c10>"
      ]
     },
     "execution_count": 8,
     "metadata": {},
     "output_type": "execute_result"
    }
   ],
   "source": [
    "# Make predictions\n",
    "tagger = crfs.Tagger()\n",
    "tagger.open('../data/bio_crf.crfsuite')"
   ]
  },
  {
   "cell_type": "code",
   "execution_count": 9,
   "metadata": {},
   "outputs": [
    {
     "name": "stdout",
     "output_type": "stream",
     "text": [
      "              precision    recall  f1-score   support\n",
      "\n",
      "       B-NEG       0.96      0.94      0.95      4303\n",
      "       I-NEG       0.99      0.78      0.87        94\n",
      "      B-NSCO       0.96      0.91      0.94      4101\n",
      "      I-NSCO       0.91      0.90      0.90      8533\n",
      "       B-UNC       0.95      0.78      0.86       456\n",
      "       I-UNC       0.96      0.82      0.88       221\n",
      "      B-USCO       0.96      0.78      0.86       453\n",
      "      I-USCO       0.89      0.72      0.80      1306\n",
      "\n",
      "   micro avg       0.93      0.89      0.91     19467\n",
      "   macro avg       0.95      0.83      0.88     19467\n",
      "weighted avg       0.93      0.89      0.91     19467\n",
      " samples avg       0.07      0.07      0.07     19467\n",
      "\n"
     ]
    },
    {
     "name": "stderr",
     "output_type": "stream",
     "text": [
      "c:\\Users\\arroc\\anaconda3\\Lib\\site-packages\\sklearn\\metrics\\_classification.py:1469: UndefinedMetricWarning: Precision and F-score are ill-defined and being set to 0.0 in samples with no predicted labels. Use `zero_division` parameter to control this behavior.\n",
      "  _warn_prf(average, modifier, msg_start, len(result))\n",
      "c:\\Users\\arroc\\anaconda3\\Lib\\site-packages\\sklearn\\metrics\\_classification.py:1469: UndefinedMetricWarning: Recall and F-score are ill-defined and being set to 0.0 in samples with no true labels. Use `zero_division` parameter to control this behavior.\n",
      "  _warn_prf(average, modifier, msg_start, len(result))\n"
     ]
    }
   ],
   "source": [
    "y_pred_train = [tagger.tag(xseq) for xseq in X_train]\n",
    "\n",
    "print(bio_classification_report(y_train, y_pred_train))"
   ]
  },
  {
   "cell_type": "code",
   "execution_count": 10,
   "metadata": {},
   "outputs": [
    {
     "name": "stdout",
     "output_type": "stream",
     "text": [
      "              precision    recall  f1-score   support\n",
      "\n",
      "       B-NEG       0.96      0.93      0.95      1132\n",
      "       I-NEG       1.00      0.86      0.92        21\n",
      "      B-NSCO       0.97      0.90      0.93      1072\n",
      "      I-NSCO       0.88      0.88      0.88      2181\n",
      "       B-UNC       0.95      0.67      0.79       131\n",
      "       I-UNC       0.94      0.69      0.80        65\n",
      "      B-USCO       0.97      0.69      0.81       131\n",
      "      I-USCO       0.82      0.74      0.78       363\n",
      "\n",
      "   micro avg       0.92      0.87      0.89      5096\n",
      "   macro avg       0.94      0.80      0.86      5096\n",
      "weighted avg       0.92      0.87      0.89      5096\n",
      " samples avg       0.07      0.07      0.07      5096\n",
      "\n"
     ]
    },
    {
     "name": "stderr",
     "output_type": "stream",
     "text": [
      "c:\\Users\\arroc\\anaconda3\\Lib\\site-packages\\sklearn\\metrics\\_classification.py:1469: UndefinedMetricWarning: Precision and F-score are ill-defined and being set to 0.0 in samples with no predicted labels. Use `zero_division` parameter to control this behavior.\n",
      "  _warn_prf(average, modifier, msg_start, len(result))\n",
      "c:\\Users\\arroc\\anaconda3\\Lib\\site-packages\\sklearn\\metrics\\_classification.py:1469: UndefinedMetricWarning: Recall and F-score are ill-defined and being set to 0.0 in samples with no true labels. Use `zero_division` parameter to control this behavior.\n",
      "  _warn_prf(average, modifier, msg_start, len(result))\n"
     ]
    }
   ],
   "source": [
    "y_pred = [tagger.tag(xseq) for xseq in X_test]\n",
    "\n",
    "print(bio_classification_report(y_test, y_pred))"
   ]
  }
 ],
 "metadata": {
  "kernelspec": {
   "display_name": "base",
   "language": "python",
   "name": "python3"
  },
  "language_info": {
   "codemirror_mode": {
    "name": "ipython",
    "version": 3
   },
   "file_extension": ".py",
   "mimetype": "text/x-python",
   "name": "python",
   "nbconvert_exporter": "python",
   "pygments_lexer": "ipython3",
   "version": "3.11.4"
  }
 },
 "nbformat": 4,
 "nbformat_minor": 2
}
